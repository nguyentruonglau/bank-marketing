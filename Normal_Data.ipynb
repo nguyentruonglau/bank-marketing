{
 "cells": [
  {
   "cell_type": "code",
   "execution_count": 0,
   "metadata": {
    "colab": {
     "base_uri": "https://localhost:8080/",
     "height": 122
    },
    "colab_type": "code",
    "executionInfo": {
     "elapsed": 28933,
     "status": "ok",
     "timestamp": 1575119524532,
     "user": {
      "displayName": "Nguyễn Trường Lâu",
      "photoUrl": "https://lh3.googleusercontent.com/a-/AAuE7mC_FN52BosV4NF1xq8bOGg6BR3ogsiIp_D3lLaXbw=s64",
      "userId": "01817833846686706243"
     },
     "user_tz": -420
    },
    "id": "8aQdIUJjOPkl",
    "outputId": "67da9e4b-a3f9-4c7b-eb42-bf2a81c8c21e"
   },
   "outputs": [
    {
     "name": "stdout",
     "output_type": "stream",
     "text": [
      "Go to this URL in a browser: https://accounts.google.com/o/oauth2/auth?client_id=947318989803-6bn6qk8qdgf4n4g3pfee6491hc0brc4i.apps.googleusercontent.com&redirect_uri=urn%3aietf%3awg%3aoauth%3a2.0%3aoob&response_type=code&scope=email%20https%3a%2f%2fwww.googleapis.com%2fauth%2fdocs.test%20https%3a%2f%2fwww.googleapis.com%2fauth%2fdrive%20https%3a%2f%2fwww.googleapis.com%2fauth%2fdrive.photos.readonly%20https%3a%2f%2fwww.googleapis.com%2fauth%2fpeopleapi.readonly\n",
      "\n",
      "Enter your authorization code:\n",
      "··········\n",
      "Mounted at /content/drive\n"
     ]
    }
   ],
   "source": [
    "from google.colab import drive\n",
    "drive.mount('/content/drive')"
   ]
  },
  {
   "cell_type": "code",
   "execution_count": 0,
   "metadata": {
    "colab": {
     "base_uri": "https://localhost:8080/",
     "height": 34
    },
    "colab_type": "code",
    "executionInfo": {
     "elapsed": 1183,
     "status": "ok",
     "timestamp": 1575119529372,
     "user": {
      "displayName": "Nguyễn Trường Lâu",
      "photoUrl": "https://lh3.googleusercontent.com/a-/AAuE7mC_FN52BosV4NF1xq8bOGg6BR3ogsiIp_D3lLaXbw=s64",
      "userId": "01817833846686706243"
     },
     "user_tz": -420
    },
    "id": "C8xSc6ASOaZe",
    "outputId": "913ff7fd-602f-4846-9c7f-0f474ef27bc4"
   },
   "outputs": [
    {
     "name": "stdout",
     "output_type": "stream",
     "text": [
      "/content/drive/My Drive/DA_KTDL\n"
     ]
    }
   ],
   "source": [
    "cd drive/\"My Drive\"/\"DA_KTDL\"/"
   ]
  },
  {
   "cell_type": "markdown",
   "metadata": {
    "colab_type": "text",
    "id": "X65i5rcbPDsP"
   },
   "source": [
    "# Part 1. Data Cleaning"
   ]
  },
  {
   "cell_type": "code",
   "execution_count": 0,
   "metadata": {
    "colab": {
     "base_uri": "https://localhost:8080/",
     "height": 204
    },
    "colab_type": "code",
    "executionInfo": {
     "elapsed": 1216,
     "status": "ok",
     "timestamp": 1575119577242,
     "user": {
      "displayName": "Nguyễn Trường Lâu",
      "photoUrl": "https://lh3.googleusercontent.com/a-/AAuE7mC_FN52BosV4NF1xq8bOGg6BR3ogsiIp_D3lLaXbw=s64",
      "userId": "01817833846686706243"
     },
     "user_tz": -420
    },
    "id": "HwMmqLtbPAdV",
    "outputId": "9dc9aa71-9bbc-4adb-a4ba-556b2da62b72"
   },
   "outputs": [
    {
     "data": {
      "text/html": [
       "<div>\n",
       "<style scoped>\n",
       "    .dataframe tbody tr th:only-of-type {\n",
       "        vertical-align: middle;\n",
       "    }\n",
       "\n",
       "    .dataframe tbody tr th {\n",
       "        vertical-align: top;\n",
       "    }\n",
       "\n",
       "    .dataframe thead th {\n",
       "        text-align: right;\n",
       "    }\n",
       "</style>\n",
       "<table border=\"1\" class=\"dataframe\">\n",
       "  <thead>\n",
       "    <tr style=\"text-align: right;\">\n",
       "      <th></th>\n",
       "      <th>age</th>\n",
       "      <th>job</th>\n",
       "      <th>marital</th>\n",
       "      <th>education</th>\n",
       "      <th>default</th>\n",
       "      <th>balance</th>\n",
       "      <th>housing</th>\n",
       "      <th>loan</th>\n",
       "      <th>contact</th>\n",
       "      <th>day</th>\n",
       "      <th>month</th>\n",
       "      <th>duration</th>\n",
       "      <th>campaign</th>\n",
       "      <th>pdays</th>\n",
       "      <th>previous</th>\n",
       "      <th>poutcome</th>\n",
       "      <th>y</th>\n",
       "    </tr>\n",
       "  </thead>\n",
       "  <tbody>\n",
       "    <tr>\n",
       "      <th>0</th>\n",
       "      <td>58</td>\n",
       "      <td>management</td>\n",
       "      <td>married</td>\n",
       "      <td>tertiary</td>\n",
       "      <td>no</td>\n",
       "      <td>2143</td>\n",
       "      <td>yes</td>\n",
       "      <td>no</td>\n",
       "      <td>unknown</td>\n",
       "      <td>5</td>\n",
       "      <td>may</td>\n",
       "      <td>261</td>\n",
       "      <td>1</td>\n",
       "      <td>-1</td>\n",
       "      <td>0</td>\n",
       "      <td>unknown</td>\n",
       "      <td>no</td>\n",
       "    </tr>\n",
       "    <tr>\n",
       "      <th>1</th>\n",
       "      <td>44</td>\n",
       "      <td>technician</td>\n",
       "      <td>single</td>\n",
       "      <td>secondary</td>\n",
       "      <td>no</td>\n",
       "      <td>29</td>\n",
       "      <td>yes</td>\n",
       "      <td>no</td>\n",
       "      <td>unknown</td>\n",
       "      <td>5</td>\n",
       "      <td>may</td>\n",
       "      <td>151</td>\n",
       "      <td>1</td>\n",
       "      <td>-1</td>\n",
       "      <td>0</td>\n",
       "      <td>unknown</td>\n",
       "      <td>no</td>\n",
       "    </tr>\n",
       "    <tr>\n",
       "      <th>2</th>\n",
       "      <td>33</td>\n",
       "      <td>entrepreneur</td>\n",
       "      <td>married</td>\n",
       "      <td>secondary</td>\n",
       "      <td>no</td>\n",
       "      <td>2</td>\n",
       "      <td>yes</td>\n",
       "      <td>yes</td>\n",
       "      <td>unknown</td>\n",
       "      <td>5</td>\n",
       "      <td>may</td>\n",
       "      <td>76</td>\n",
       "      <td>1</td>\n",
       "      <td>-1</td>\n",
       "      <td>0</td>\n",
       "      <td>unknown</td>\n",
       "      <td>no</td>\n",
       "    </tr>\n",
       "    <tr>\n",
       "      <th>3</th>\n",
       "      <td>47</td>\n",
       "      <td>blue-collar</td>\n",
       "      <td>married</td>\n",
       "      <td>unknown</td>\n",
       "      <td>no</td>\n",
       "      <td>1506</td>\n",
       "      <td>yes</td>\n",
       "      <td>no</td>\n",
       "      <td>unknown</td>\n",
       "      <td>5</td>\n",
       "      <td>may</td>\n",
       "      <td>92</td>\n",
       "      <td>1</td>\n",
       "      <td>-1</td>\n",
       "      <td>0</td>\n",
       "      <td>unknown</td>\n",
       "      <td>no</td>\n",
       "    </tr>\n",
       "    <tr>\n",
       "      <th>4</th>\n",
       "      <td>33</td>\n",
       "      <td>unknown</td>\n",
       "      <td>single</td>\n",
       "      <td>unknown</td>\n",
       "      <td>no</td>\n",
       "      <td>1</td>\n",
       "      <td>no</td>\n",
       "      <td>no</td>\n",
       "      <td>unknown</td>\n",
       "      <td>5</td>\n",
       "      <td>may</td>\n",
       "      <td>198</td>\n",
       "      <td>1</td>\n",
       "      <td>-1</td>\n",
       "      <td>0</td>\n",
       "      <td>unknown</td>\n",
       "      <td>no</td>\n",
       "    </tr>\n",
       "  </tbody>\n",
       "</table>\n",
       "</div>"
      ],
      "text/plain": [
       "   age           job  marital  education  ... pdays  previous poutcome   y\n",
       "0   58    management  married   tertiary  ...    -1         0  unknown  no\n",
       "1   44    technician   single  secondary  ...    -1         0  unknown  no\n",
       "2   33  entrepreneur  married  secondary  ...    -1         0  unknown  no\n",
       "3   47   blue-collar  married    unknown  ...    -1         0  unknown  no\n",
       "4   33       unknown   single    unknown  ...    -1         0  unknown  no\n",
       "\n",
       "[5 rows x 17 columns]"
      ]
     },
     "execution_count": 5,
     "metadata": {
      "tags": []
     },
     "output_type": "execute_result"
    }
   ],
   "source": [
    "import pandas as pd\n",
    "import numpy as np\n",
    "from pandas import read_csv\n",
    "import matplotlib.pyplot as plt\n",
    "import warnings\n",
    "warnings.filterwarnings('ignore')\n",
    "import os\n",
    "\n",
    "data = pd.read_csv('bank-full.csv', sep = ';')\n",
    "data.head()"
   ]
  },
  {
   "cell_type": "code",
   "execution_count": 0,
   "metadata": {
    "colab": {},
    "colab_type": "code",
    "id": "aStyEmtaPuU-"
   },
   "outputs": [],
   "source": [
    "#Xử lý dữ liệu thiếu:\n",
    "#Tập dữ liệu không có dữ liệu thiếu, nhưng các giá trị như unknown hay other không giúp ích nhiều nên được xem như là dữ liệu thiếu, ta cần loại bỏ chúng."
   ]
  },
  {
   "cell_type": "code",
   "execution_count": 0,
   "metadata": {
    "colab": {
     "base_uri": "https://localhost:8080/",
     "height": 221
    },
    "colab_type": "code",
    "executionInfo": {
     "elapsed": 1146,
     "status": "ok",
     "timestamp": 1575119581080,
     "user": {
      "displayName": "Nguyễn Trường Lâu",
      "photoUrl": "https://lh3.googleusercontent.com/a-/AAuE7mC_FN52BosV4NF1xq8bOGg6BR3ogsiIp_D3lLaXbw=s64",
      "userId": "01817833846686706243"
     },
     "user_tz": -420
    },
    "id": "yP5Vv-naR0xL",
    "outputId": "d7ffb1dd-25aa-49b9-a5d0-b205db0c70fb"
   },
   "outputs": [
    {
     "data": {
      "text/plain": [
       "0        unknown\n",
       "1        unknown\n",
       "2        unknown\n",
       "3        unknown\n",
       "4        unknown\n",
       "          ...   \n",
       "45206    unknown\n",
       "45207    unknown\n",
       "45208    success\n",
       "45209    unknown\n",
       "45210      other\n",
       "Name: poutcome, Length: 45211, dtype: object"
      ]
     },
     "execution_count": 6,
     "metadata": {
      "tags": []
     },
     "output_type": "execute_result"
    }
   ],
   "source": [
    "data.poutcome"
   ]
  },
  {
   "cell_type": "code",
   "execution_count": 0,
   "metadata": {
    "colab": {
     "base_uri": "https://localhost:8080/",
     "height": 221
    },
    "colab_type": "code",
    "executionInfo": {
     "elapsed": 1032,
     "status": "ok",
     "timestamp": 1575119642059,
     "user": {
      "displayName": "Nguyễn Trường Lâu",
      "photoUrl": "https://lh3.googleusercontent.com/a-/AAuE7mC_FN52BosV4NF1xq8bOGg6BR3ogsiIp_D3lLaXbw=s64",
      "userId": "01817833846686706243"
     },
     "user_tz": -420
    },
    "id": "hL_nygNFRIob",
    "outputId": "9d215bdd-fb38-4644-ea21-cd443be45cc6"
   },
   "outputs": [
    {
     "data": {
      "text/plain": [
       "0        unknown\n",
       "1        unknown\n",
       "2        unknown\n",
       "3        unknown\n",
       "4        unknown\n",
       "          ...   \n",
       "45205    unknown\n",
       "45206    unknown\n",
       "45207    unknown\n",
       "45208    success\n",
       "45209    unknown\n",
       "Name: poutcome, Length: 43371, dtype: object"
      ]
     },
     "execution_count": 7,
     "metadata": {
      "tags": []
     },
     "output_type": "execute_result"
    }
   ],
   "source": [
    "condition=data.poutcome=='other'\n",
    "data=data.drop(data[condition].index, axis=0, inplace=False)\n",
    "data.poutcome"
   ]
  },
  {
   "cell_type": "code",
   "execution_count": 0,
   "metadata": {
    "colab": {
     "base_uri": "https://localhost:8080/",
     "height": 221
    },
    "colab_type": "code",
    "executionInfo": {
     "elapsed": 1070,
     "status": "ok",
     "timestamp": 1575119681643,
     "user": {
      "displayName": "Nguyễn Trường Lâu",
      "photoUrl": "https://lh3.googleusercontent.com/a-/AAuE7mC_FN52BosV4NF1xq8bOGg6BR3ogsiIp_D3lLaXbw=s64",
      "userId": "01817833846686706243"
     },
     "user_tz": -420
    },
    "id": "uTqDHCiAYMEm",
    "outputId": "affd5888-2ec4-489e-a3d0-3ed180fd8b31"
   },
   "outputs": [
    {
     "data": {
      "text/plain": [
       "0        2143\n",
       "1          29\n",
       "2           2\n",
       "3        1506\n",
       "4           1\n",
       "         ... \n",
       "45205     505\n",
       "45206     825\n",
       "45207    1729\n",
       "45208    5715\n",
       "45209     668\n",
       "Name: balance, Length: 43371, dtype: int64"
      ]
     },
     "execution_count": 8,
     "metadata": {
      "tags": []
     },
     "output_type": "execute_result"
    }
   ],
   "source": [
    "#Drop các mẫu dữ liệu outlier trong thuộc tính Balance (tiền dư hằng năm)\n",
    "data.balance"
   ]
  },
  {
   "cell_type": "code",
   "execution_count": 0,
   "metadata": {
    "colab": {
     "base_uri": "https://localhost:8080/",
     "height": 221
    },
    "colab_type": "code",
    "executionInfo": {
     "elapsed": 1073,
     "status": "ok",
     "timestamp": 1575119694644,
     "user": {
      "displayName": "Nguyễn Trường Lâu",
      "photoUrl": "https://lh3.googleusercontent.com/a-/AAuE7mC_FN52BosV4NF1xq8bOGg6BR3ogsiIp_D3lLaXbw=s64",
      "userId": "01817833846686706243"
     },
     "user_tz": -420
    },
    "id": "exzCNZgcUjOp",
    "outputId": "a2fab5b2-098a-4a3f-ddc1-1778c2286bd6"
   },
   "outputs": [
    {
     "data": {
      "text/plain": [
       "0        2143\n",
       "1          29\n",
       "2           2\n",
       "3        1506\n",
       "4           1\n",
       "         ... \n",
       "45205     505\n",
       "45206     825\n",
       "45207    1729\n",
       "45208    5715\n",
       "45209     668\n",
       "Name: balance, Length: 42655, dtype: int64"
      ]
     },
     "execution_count": 9,
     "metadata": {
      "tags": []
     },
     "output_type": "execute_result"
    }
   ],
   "source": [
    "from scipy.stats import zscore\n",
    "\n",
    "data['balance_outlier']= data['balance']\n",
    "data['balance_outlier']= zscore(data['balance_outlier'])\n",
    "\n",
    "condition1 = (data['balance_outlier']>3) | (data['balance_outlier']<-3 )\n",
    "data = data.drop(data[condition1].index, axis = 0, inplace = False)\n",
    "data.drop('balance_outlier', axis=1)\n",
    "data.balance"
   ]
  },
  {
   "cell_type": "code",
   "execution_count": 0,
   "metadata": {
    "colab": {
     "base_uri": "https://localhost:8080/",
     "height": 350
    },
    "colab_type": "code",
    "executionInfo": {
     "elapsed": 1663,
     "status": "ok",
     "timestamp": 1575119701366,
     "user": {
      "displayName": "Nguyễn Trường Lâu",
      "photoUrl": "https://lh3.googleusercontent.com/a-/AAuE7mC_FN52BosV4NF1xq8bOGg6BR3ogsiIp_D3lLaXbw=s64",
      "userId": "01817833846686706243"
     },
     "user_tz": -420
    },
    "id": "BbDzkwPZAfW5",
    "outputId": "668612a1-7477-481c-9f38-422e4f4ecbea"
   },
   "outputs": [
    {
     "data": {
      "image/png": "[encoded data removed]",
      "text/plain": [
       "<Figure size 1080x360 with 2 Axes>"
      ]
     },
     "metadata": {
      "tags": []
     },
     "output_type": "display_data"
    }
   ],
   "source": [
    "plt.figure(figsize=(15,5))\n",
    "\n",
    "plt.subplot(1,2,1)\n",
    "plt.title('Histogram of Balance Before')\n",
    "plt.xlabel('Giá trị')\n",
    "plt.ylabel('Tần số')\n",
    "plt.hist(dataset.balance, 10)\n",
    "\n",
    "plt.subplot(1,2,2)\n",
    "plt.title('Histogram of Balance After')\n",
    "plt.xlabel('Giá trị')\n",
    "plt.ylabel('Tần số')\n",
    "plt.hist(data.balance, 10)\n",
    "\n",
    "plt.show()"
   ]
  },
  {
   "cell_type": "code",
   "execution_count": 0,
   "metadata": {
    "colab": {
     "base_uri": "https://localhost:8080/",
     "height": 221
    },
    "colab_type": "code",
    "executionInfo": {
     "elapsed": 1749,
     "status": "ok",
     "timestamp": 1575119724199,
     "user": {
      "displayName": "Nguyễn Trường Lâu",
      "photoUrl": "https://lh3.googleusercontent.com/a-/AAuE7mC_FN52BosV4NF1xq8bOGg6BR3ogsiIp_D3lLaXbw=s64",
      "userId": "01817833846686706243"
     },
     "user_tz": -420
    },
    "id": "aneFC7NbDNBW",
    "outputId": "a591f676-0050-49a9-b74a-67dd96ea9c0a"
   },
   "outputs": [
    {
     "data": {
      "text/plain": [
       "0        0\n",
       "1        0\n",
       "2        0\n",
       "3        0\n",
       "4        0\n",
       "        ..\n",
       "45205    1\n",
       "45206    1\n",
       "45207    1\n",
       "45208    1\n",
       "45209    0\n",
       "Name: y, Length: 42655, dtype: int64"
      ]
     },
     "execution_count": 11,
     "metadata": {
      "tags": []
     },
     "output_type": "execute_result"
    }
   ],
   "source": [
    "#Chuẩn hóa 0-no và 1-yes\n",
    "data['y'].replace(['no', 'yes'],[0,1], inplace=True)\n",
    "data.y"
   ]
  },
  {
   "cell_type": "code",
   "execution_count": 0,
   "metadata": {
    "colab": {},
    "colab_type": "code",
    "id": "4hR-fsimFQ8v"
   },
   "outputs": [],
   "source": [
    "#Cột contact không có ý nghĩa, do liên hệ bằng smartphone hay cục gạch thì cũng giống nhau\n",
    "data=data.drop('contact', axis=1)"
   ]
  },
  {
   "cell_type": "code",
   "execution_count": 0,
   "metadata": {
    "colab": {
     "base_uri": "https://localhost:8080/",
     "height": 391
    },
    "colab_type": "code",
    "executionInfo": {
     "elapsed": 1051,
     "status": "ok",
     "timestamp": 1575119741346,
     "user": {
      "displayName": "Nguyễn Trường Lâu",
      "photoUrl": "https://lh3.googleusercontent.com/a-/AAuE7mC_FN52BosV4NF1xq8bOGg6BR3ogsiIp_D3lLaXbw=s64",
      "userId": "01817833846686706243"
     },
     "user_tz": -420
    },
    "id": "0AbMGYIIFv4Q",
    "outputId": "ea791b4d-870b-4974-feb7-4cb8fce1e64f"
   },
   "outputs": [
    {
     "name": "stdout",
     "output_type": "stream",
     "text": [
      "<class 'pandas.core.frame.DataFrame'>\n",
      "Int64Index: 42655 entries, 0 to 45209\n",
      "Data columns (total 17 columns):\n",
      "age                42655 non-null int64\n",
      "job                42655 non-null object\n",
      "marital            42655 non-null object\n",
      "education          42655 non-null object\n",
      "default            42655 non-null object\n",
      "balance            42655 non-null int64\n",
      "housing            42655 non-null object\n",
      "loan               42655 non-null object\n",
      "day                42655 non-null int64\n",
      "month              42655 non-null object\n",
      "duration           42655 non-null int64\n",
      "campaign           42655 non-null int64\n",
      "pdays              42655 non-null int64\n",
      "previous           42655 non-null int64\n",
      "poutcome           42655 non-null object\n",
      "y                  42655 non-null int64\n",
      "balance_outlier    42655 non-null float64\n",
      "dtypes: float64(1), int64(8), object(8)\n",
      "memory usage: 5.9+ MB\n"
     ]
    }
   ],
   "source": [
    "data.info()"
   ]
  },
  {
   "cell_type": "code",
   "execution_count": 0,
   "metadata": {
    "colab": {
     "base_uri": "https://localhost:8080/",
     "height": 221
    },
    "colab_type": "code",
    "executionInfo": {
     "elapsed": 1168,
     "status": "ok",
     "timestamp": 1575119749584,
     "user": {
      "displayName": "Nguyễn Trường Lâu",
      "photoUrl": "https://lh3.googleusercontent.com/a-/AAuE7mC_FN52BosV4NF1xq8bOGg6BR3ogsiIp_D3lLaXbw=s64",
      "userId": "01817833846686706243"
     },
     "user_tz": -420
    },
    "id": "V9_jq88sGXBk",
    "outputId": "8c38461d-1fb2-4a14-8e3c-bb20439f722e"
   },
   "outputs": [
    {
     "name": "stdout",
     "output_type": "stream",
     "text": [
      "0         4.35\n",
      "1         2.52\n",
      "2         1.27\n",
      "3         1.53\n",
      "4         3.30\n",
      "         ...  \n",
      "45205     6.43\n",
      "45206    16.28\n",
      "45207     7.60\n",
      "45208    18.78\n",
      "45209     8.47\n",
      "Name: duration, Length: 42655, dtype: float64\n"
     ]
    }
   ],
   "source": [
    "#Thay đổi thời gian liên lạc từ giây sang phút\n",
    "data['duration'] = data['duration'].apply(lambda n:n/60.0).round(2)\n",
    "print(data['duration']);"
   ]
  },
  {
   "cell_type": "code",
   "execution_count": 0,
   "metadata": {
    "colab": {
     "base_uri": "https://localhost:8080/",
     "height": 221
    },
    "colab_type": "code",
    "executionInfo": {
     "elapsed": 1068,
     "status": "ok",
     "timestamp": 1575119756568,
     "user": {
      "displayName": "Nguyễn Trường Lâu",
      "photoUrl": "https://lh3.googleusercontent.com/a-/AAuE7mC_FN52BosV4NF1xq8bOGg6BR3ogsiIp_D3lLaXbw=s64",
      "userId": "01817833846686706243"
     },
     "user_tz": -420
    },
    "id": "ymZwk3HMXa1m",
    "outputId": "3f9e93b1-9fd0-4ebc-c974-c1839096dca5"
   },
   "outputs": [
    {
     "data": {
      "text/plain": [
       "0         5\n",
       "1         5\n",
       "2         5\n",
       "3         5\n",
       "4         5\n",
       "         ..\n",
       "45205    11\n",
       "45206    11\n",
       "45207    11\n",
       "45208    11\n",
       "45209    11\n",
       "Name: month, Length: 42655, dtype: int64"
      ]
     },
     "execution_count": 15,
     "metadata": {
      "tags": []
     },
     "output_type": "execute_result"
    }
   ],
   "source": [
    "#Thay đổi tháng từ chuỗi sang số\n",
    "lst = [data]\n",
    "for column in lst:\n",
    "    column.loc[column[\"month\"] == \"jan\", \"month\"] = 1\n",
    "    column.loc[column[\"month\"] == \"feb\", \"month\"] = 2\n",
    "    column.loc[column[\"month\"] == \"mar\", \"month\"] = 3\n",
    "    column.loc[column[\"month\"] == \"apr\", \"month\"] = 4\n",
    "    column.loc[column[\"month\"] == \"may\", \"month\"] = 5\n",
    "    column.loc[column[\"month\"] == \"jun\", \"month\"] = 6\n",
    "    column.loc[column[\"month\"] == \"jul\", \"month\"] = 7\n",
    "    column.loc[column[\"month\"] == \"aug\", \"month\"] = 8\n",
    "    column.loc[column[\"month\"] == \"sep\", \"month\"] = 9\n",
    "    column.loc[column[\"month\"] == \"oct\", \"month\"] = 10\n",
    "    column.loc[column[\"month\"] == \"nov\", \"month\"] = 11\n",
    "    column.loc[column[\"month\"] == \"dec\", \"month\"] = 12\n",
    "data['month']"
   ]
  },
  {
   "cell_type": "code",
   "execution_count": 0,
   "metadata": {
    "colab": {},
    "colab_type": "code",
    "id": "2lSGdPCfHa0s"
   },
   "outputs": [],
   "source": [
    "#Xóa khách hàng có giá trị unknown tại trường educaton\n",
    "condition3 = (data['education'] == 'unknown')\n",
    "data = data.drop(data[condition3].index, axis = 0, inplace = False)"
   ]
  },
  {
   "cell_type": "code",
   "execution_count": 0,
   "metadata": {
    "colab": {
     "base_uri": "https://localhost:8080/",
     "height": 221
    },
    "colab_type": "code",
    "executionInfo": {
     "elapsed": 1047,
     "status": "ok",
     "timestamp": 1575119842561,
     "user": {
      "displayName": "Nguyễn Trường Lâu",
      "photoUrl": "https://lh3.googleusercontent.com/a-/AAuE7mC_FN52BosV4NF1xq8bOGg6BR3ogsiIp_D3lLaXbw=s64",
      "userId": "01817833846686706243"
     },
     "user_tz": -420
    },
    "id": "wHhIQfTEUIWw",
    "outputId": "7d35fd68-cb98-40f1-a30a-f485fdbc0a5a"
   },
   "outputs": [
    {
     "data": {
      "text/plain": [
       "0         tertiary\n",
       "1        secondary\n",
       "2        secondary\n",
       "5         tertiary\n",
       "6         tertiary\n",
       "           ...    \n",
       "45205    secondary\n",
       "45206     tertiary\n",
       "45207      primary\n",
       "45208    secondary\n",
       "45209    secondary\n",
       "Name: education, Length: 40897, dtype: object"
      ]
     },
     "execution_count": 17,
     "metadata": {
      "tags": []
     },
     "output_type": "execute_result"
    }
   ],
   "source": [
    "data['education']"
   ]
  },
  {
   "cell_type": "code",
   "execution_count": 0,
   "metadata": {
    "colab": {
     "base_uri": "https://localhost:8080/",
     "height": 221
    },
    "colab_type": "code",
    "executionInfo": {
     "elapsed": 1238,
     "status": "ok",
     "timestamp": 1575119862782,
     "user": {
      "displayName": "Nguyễn Trường Lâu",
      "photoUrl": "https://lh3.googleusercontent.com/a-/AAuE7mC_FN52BosV4NF1xq8bOGg6BR3ogsiIp_D3lLaXbw=s64",
      "userId": "01817833846686706243"
     },
     "user_tz": -420
    },
    "id": "LQ62hR3aX9SI",
    "outputId": "5fe2760a-4498-4727-ed09-27654714532c"
   },
   "outputs": [
    {
     "data": {
      "text/plain": [
       "0         4.35\n",
       "1         2.52\n",
       "2         1.27\n",
       "5         2.32\n",
       "6         3.62\n",
       "         ...  \n",
       "45205     6.43\n",
       "45206    16.28\n",
       "45207     7.60\n",
       "45208    18.78\n",
       "45209     8.47\n",
       "Name: duration, Length: 40841, dtype: float64"
      ]
     },
     "execution_count": 18,
     "metadata": {
      "tags": []
     },
     "output_type": "execute_result"
    }
   ],
   "source": [
    "#Xóa các khách hàng có thời gian trao đổi nhỏ hơn 5s\n",
    "condition4 = (data['duration']<5/60.0)\n",
    "data = data.drop(data[condition4].index, axis = 0, inplace = False)\n",
    "data['duration']"
   ]
  },
  {
   "cell_type": "markdown",
   "metadata": {
    "colab_type": "text",
    "id": "onHSUs4pUT3g"
   },
   "source": [
    "# Part 2. Exploratory Data Analysis"
   ]
  },
  {
   "cell_type": "code",
   "execution_count": 0,
   "metadata": {
    "colab": {
     "base_uri": "https://localhost:8080/",
     "height": 282
    },
    "colab_type": "code",
    "executionInfo": {
     "elapsed": 1258,
     "status": "ok",
     "timestamp": 1575001316576,
     "user": {
      "displayName": "Nguyễn Trường Lâu",
      "photoUrl": "https://lh3.googleusercontent.com/a-/AAuE7mC_FN52BosV4NF1xq8bOGg6BR3ogsiIp_D3lLaXbw=s64",
      "userId": "01817833846686706243"
     },
     "user_tz": -420
    },
    "id": "z-yogXk7UOmG",
    "outputId": "1037335a-11ef-4614-a911-0f18bf36d74b"
   },
   "outputs": [
    {
     "data": {
      "image/png": "[encoded data removed]",
      "text/plain": [
       "<Figure size 432x288 with 1 Axes>"
      ]
     },
     "metadata": {
      "tags": []
     },
     "output_type": "display_data"
    }
   ],
   "source": [
    "#Mối liên hệ giữa tuổi và số dư hằng năm\n",
    "plt.scatter(data['age'],data['balance'])\n",
    "\n",
    "plt.title('Mối liên hệ giứa Tuổi và Số dư ')\n",
    "plt.show()"
   ]
  },
  {
   "cell_type": "code",
   "execution_count": 0,
   "metadata": {
    "colab": {},
    "colab_type": "code",
    "id": "uNQxyKnRZlN7"
   },
   "outputs": [],
   "source": [
    "#Từ hình trên cho ta thấy: khi trên 60 tuổi thì thu nhập chủ yếu nhỏ hơn 5000 euro do hầu hết đã nghỉ hưu, đồng thời ít có số dư âm."
   ]
  },
  {
   "cell_type": "code",
   "execution_count": 0,
   "metadata": {
    "colab": {
     "base_uri": "https://localhost:8080/",
     "height": 540
    },
    "colab_type": "code",
    "executionInfo": {
     "elapsed": 1209,
     "status": "ok",
     "timestamp": 1575002000499,
     "user": {
      "displayName": "Nguyễn Trường Lâu",
      "photoUrl": "https://lh3.googleusercontent.com/a-/AAuE7mC_FN52BosV4NF1xq8bOGg6BR3ogsiIp_D3lLaXbw=s64",
      "userId": "01817833846686706243"
     },
     "user_tz": -420
    },
    "id": "Helqg2dVZ5IJ",
    "outputId": "13283681-ce00-4d30-ca3c-d7bdacb43e3c"
   },
   "outputs": [
    {
     "data": {
      "image/png": "[encoded data removed]",
      "text/plain": [
       "<Figure size 576x576 with 2 Axes>"
      ]
     },
     "metadata": {
      "tags": []
     },
     "output_type": "display_data"
    }
   ],
   "source": [
    "#Mối liên hệ giữa Thời gian và Số lần gọi\n",
    "dist_dur_cam = data[['duration','campaign']].plot(kind = 'box', \n",
    "                                                      figsize = (8,8),\n",
    "                                                      subplots = True, layout = (1,2),\n",
    "                                                      sharex = False, sharey = False,\n",
    "                                                      title='Phân bố của Thời gian và Số lần gọi')\n",
    "plt.show()"
   ]
  },
  {
   "cell_type": "code",
   "execution_count": 0,
   "metadata": {
    "colab": {},
    "colab_type": "code",
    "id": "Zduye5sOb1v0"
   },
   "outputs": [],
   "source": [
    "#Từ biểu đồ trên ta thấy: hầu hết các khách hàng được gọi trong thời gian 2->6 phút và số lần gọi nhiều nhất vào khoảng 2-3 lần.\n",
    "#Tuy nhiên vẫn có một số trường hợp đặc biệt khi có thời gian trao đổi hơn 80 phút và cũng có số lần trao đổi gần 60 lần\n",
    "#Chúng ta sẽ xem xét sau"
   ]
  },
  {
   "cell_type": "code",
   "execution_count": 0,
   "metadata": {
    "colab": {},
    "colab_type": "code",
    "id": "4h4U1gv8dJff"
   },
   "outputs": [],
   "source": [
    "data.rename(index=str, columns={'y': 'response'}, inplace = True)"
   ]
  },
  {
   "cell_type": "code",
   "execution_count": 0,
   "metadata": {
    "colab": {
     "base_uri": "https://localhost:8080/",
     "height": 530
    },
    "colab_type": "code",
    "executionInfo": {
     "elapsed": 2674,
     "status": "ok",
     "timestamp": 1575002474484,
     "user": {
      "displayName": "Nguyễn Trường Lâu",
      "photoUrl": "https://lh3.googleusercontent.com/a-/AAuE7mC_FN52BosV4NF1xq8bOGg6BR3ogsiIp_D3lLaXbw=s64",
      "userId": "01817833846686706243"
     },
     "user_tz": -420
    },
    "id": "vhaNSn3Nci3m",
    "outputId": "e24d7d3f-bf3f-423c-fb14-fccf3d266bdd"
   },
   "outputs": [
    {
     "data": {
      "image/png": "[encoded data removed]",
      "text/plain": [
       "<Figure size 557.5x504 with 1 Axes>"
      ]
     },
     "metadata": {
      "tags": []
     },
     "output_type": "display_data"
    }
   ],
   "source": [
    "import seaborn as sns\n",
    "dur_cam = sns.lmplot(x='duration', y='campaign',data = data,\n",
    "                     hue = 'response',\n",
    "                     fit_reg = False,\n",
    "                     scatter_kws={'alpha':0.6}, height =7)\n",
    "\n",
    "plt.axis([0,65,0,65])\n",
    "plt.ylabel('Số lần gọi')\n",
    "plt.xlabel('Thời gian gọi (Phút)')\n",
    "plt.title('The Relationship between the Number and Duration of Calls (with Response Result)')\n",
    "\n",
    "# Annotation\n",
    "plt.axhline(y=5, linewidth=2, color=\"k\", linestyle='--')\n",
    "plt.annotate('Tỷ lệ tham gia cao hơn khi thời gian gọi <5 (Phút)',xytext = (35,13),\n",
    "             arrowprops=dict(color = 'k', width=1),xy=(30,6))\n",
    "plt.show()"
   ]
  },
  {
   "cell_type": "code",
   "execution_count": 0,
   "metadata": {
    "colab": {},
    "colab_type": "code",
    "id": "pS3EzYaO9oRr"
   },
   "outputs": [],
   "source": [
    "#Nhìn vào biểu đồ ta thấy:\n",
    "#Khi thời gian gọi từ 3->10 phút và số lần nhỏ hơn 5 thì hầu như 100% khách hàng sẽ đồng ý gửi tiền có kỳ hạn\n",
    "#Khi số lần gọi càng nhiều thì khả năng khách hàng tham gia là rất thấp, việc này đồng nghĩa với việc khách hàng cảm thầy bị phiền hà nên ngân hàng thay đổi lại sao cho phù hợp"
   ]
  },
  {
   "cell_type": "code",
   "execution_count": 0,
   "metadata": {
    "colab": {
     "base_uri": "https://localhost:8080/",
     "height": 651
    },
    "colab_type": "code",
    "executionInfo": {
     "elapsed": 1466,
     "status": "ok",
     "timestamp": 1575012439895,
     "user": {
      "displayName": "Nguyễn Trường Lâu",
      "photoUrl": "https://lh3.googleusercontent.com/a-/AAuE7mC_FN52BosV4NF1xq8bOGg6BR3ogsiIp_D3lLaXbw=s64",
      "userId": "01817833846686706243"
     },
     "user_tz": -420
    },
    "id": "yD4Zaw7-Cu90",
    "outputId": "1a8e7737-a841-44dc-f1f8-98018da44300"
   },
   "outputs": [
    {
     "data": {
      "image/png": "[encoded data removed]",
      "text/plain": [
       "<Figure size 864x720 with 2 Axes>"
      ]
     },
     "metadata": {
      "tags": []
     },
     "output_type": "display_data"
    }
   ],
   "source": [
    "#Ma trận tương quan\n",
    "corr_data = data[['age','balance','duration','campaign','month','previous','response']]\n",
    "corr = corr_data.corr()\n",
    "\n",
    "cor_plot = sns.heatmap(corr,annot=True,cmap='RdYlGn',linewidths=0.2,annot_kws={'size':10})\n",
    "fig=plt.gcf()\n",
    "fig.set_size_inches(12,10)\n",
    "plt.xticks(fontsize=10,rotation=-30)\n",
    "plt.yticks(fontsize=10)\n",
    "plt.title('Ma trận tương quan')\n",
    "plt.show()"
   ]
  },
  {
   "cell_type": "code",
   "execution_count": 0,
   "metadata": {
    "colab": {},
    "colab_type": "code",
    "id": "MMeG2BGBDtuj"
   },
   "outputs": [],
   "source": [
    "#Ta thấy, mức độ liên quan của lần gọi trước với kết quả tham gia hay không tham gia có mối tương quan khá cao."
   ]
  },
  {
   "cell_type": "markdown",
   "metadata": {
    "colab_type": "text",
    "id": "2JepxSHTEywO"
   },
   "source": [
    "# Part 3. Data Visualizaton"
   ]
  },
  {
   "cell_type": "code",
   "execution_count": 0,
   "metadata": {
    "colab": {},
    "colab_type": "code",
    "id": "w1oP4PseFioU"
   },
   "outputs": [],
   "source": [
    "data=data.drop('balance_outlier', axis=1)"
   ]
  },
  {
   "cell_type": "code",
   "execution_count": 0,
   "metadata": {
    "colab": {
     "base_uri": "https://localhost:8080/",
     "height": 204
    },
    "colab_type": "code",
    "executionInfo": {
     "elapsed": 692,
     "status": "ok",
     "timestamp": 1575119894366,
     "user": {
      "displayName": "Nguyễn Trường Lâu",
      "photoUrl": "https://lh3.googleusercontent.com/a-/AAuE7mC_FN52BosV4NF1xq8bOGg6BR3ogsiIp_D3lLaXbw=s64",
      "userId": "01817833846686706243"
     },
     "user_tz": -420
    },
    "id": "913TiAjwFFyA",
    "outputId": "550e0a1b-81b0-4011-f184-5f02384b7245"
   },
   "outputs": [
    {
     "data": {
      "text/html": [
       "<div>\n",
       "<style scoped>\n",
       "    .dataframe tbody tr th:only-of-type {\n",
       "        vertical-align: middle;\n",
       "    }\n",
       "\n",
       "    .dataframe tbody tr th {\n",
       "        vertical-align: top;\n",
       "    }\n",
       "\n",
       "    .dataframe thead th {\n",
       "        text-align: right;\n",
       "    }\n",
       "</style>\n",
       "<table border=\"1\" class=\"dataframe\">\n",
       "  <thead>\n",
       "    <tr style=\"text-align: right;\">\n",
       "      <th></th>\n",
       "      <th>age</th>\n",
       "      <th>job</th>\n",
       "      <th>marital</th>\n",
       "      <th>education</th>\n",
       "      <th>default</th>\n",
       "      <th>balance</th>\n",
       "      <th>housing</th>\n",
       "      <th>loan</th>\n",
       "      <th>day</th>\n",
       "      <th>month</th>\n",
       "      <th>duration</th>\n",
       "      <th>campaign</th>\n",
       "      <th>pdays</th>\n",
       "      <th>previous</th>\n",
       "      <th>poutcome</th>\n",
       "      <th>y</th>\n",
       "    </tr>\n",
       "  </thead>\n",
       "  <tbody>\n",
       "    <tr>\n",
       "      <th>0</th>\n",
       "      <td>58</td>\n",
       "      <td>management</td>\n",
       "      <td>married</td>\n",
       "      <td>tertiary</td>\n",
       "      <td>no</td>\n",
       "      <td>2143</td>\n",
       "      <td>yes</td>\n",
       "      <td>no</td>\n",
       "      <td>5</td>\n",
       "      <td>5</td>\n",
       "      <td>4.35</td>\n",
       "      <td>1</td>\n",
       "      <td>-1</td>\n",
       "      <td>0</td>\n",
       "      <td>unknown</td>\n",
       "      <td>0</td>\n",
       "    </tr>\n",
       "    <tr>\n",
       "      <th>1</th>\n",
       "      <td>44</td>\n",
       "      <td>technician</td>\n",
       "      <td>single</td>\n",
       "      <td>secondary</td>\n",
       "      <td>no</td>\n",
       "      <td>29</td>\n",
       "      <td>yes</td>\n",
       "      <td>no</td>\n",
       "      <td>5</td>\n",
       "      <td>5</td>\n",
       "      <td>2.52</td>\n",
       "      <td>1</td>\n",
       "      <td>-1</td>\n",
       "      <td>0</td>\n",
       "      <td>unknown</td>\n",
       "      <td>0</td>\n",
       "    </tr>\n",
       "    <tr>\n",
       "      <th>2</th>\n",
       "      <td>33</td>\n",
       "      <td>entrepreneur</td>\n",
       "      <td>married</td>\n",
       "      <td>secondary</td>\n",
       "      <td>no</td>\n",
       "      <td>2</td>\n",
       "      <td>yes</td>\n",
       "      <td>yes</td>\n",
       "      <td>5</td>\n",
       "      <td>5</td>\n",
       "      <td>1.27</td>\n",
       "      <td>1</td>\n",
       "      <td>-1</td>\n",
       "      <td>0</td>\n",
       "      <td>unknown</td>\n",
       "      <td>0</td>\n",
       "    </tr>\n",
       "    <tr>\n",
       "      <th>5</th>\n",
       "      <td>35</td>\n",
       "      <td>management</td>\n",
       "      <td>married</td>\n",
       "      <td>tertiary</td>\n",
       "      <td>no</td>\n",
       "      <td>231</td>\n",
       "      <td>yes</td>\n",
       "      <td>no</td>\n",
       "      <td>5</td>\n",
       "      <td>5</td>\n",
       "      <td>2.32</td>\n",
       "      <td>1</td>\n",
       "      <td>-1</td>\n",
       "      <td>0</td>\n",
       "      <td>unknown</td>\n",
       "      <td>0</td>\n",
       "    </tr>\n",
       "    <tr>\n",
       "      <th>6</th>\n",
       "      <td>28</td>\n",
       "      <td>management</td>\n",
       "      <td>single</td>\n",
       "      <td>tertiary</td>\n",
       "      <td>no</td>\n",
       "      <td>447</td>\n",
       "      <td>yes</td>\n",
       "      <td>yes</td>\n",
       "      <td>5</td>\n",
       "      <td>5</td>\n",
       "      <td>3.62</td>\n",
       "      <td>1</td>\n",
       "      <td>-1</td>\n",
       "      <td>0</td>\n",
       "      <td>unknown</td>\n",
       "      <td>0</td>\n",
       "    </tr>\n",
       "  </tbody>\n",
       "</table>\n",
       "</div>"
      ],
      "text/plain": [
       "   age           job  marital  education  ... pdays  previous poutcome  y\n",
       "0   58    management  married   tertiary  ...    -1         0  unknown  0\n",
       "1   44    technician   single  secondary  ...    -1         0  unknown  0\n",
       "2   33  entrepreneur  married  secondary  ...    -1         0  unknown  0\n",
       "5   35    management  married   tertiary  ...    -1         0  unknown  0\n",
       "6   28    management   single   tertiary  ...    -1         0  unknown  0\n",
       "\n",
       "[5 rows x 16 columns]"
      ]
     },
     "execution_count": 21,
     "metadata": {
      "tags": []
     },
     "output_type": "execute_result"
    }
   ],
   "source": [
    "data.head()"
   ]
  },
  {
   "cell_type": "code",
   "execution_count": 0,
   "metadata": {
    "colab": {
     "base_uri": "https://localhost:8080/",
     "height": 204
    },
    "colab_type": "code",
    "executionInfo": {
     "elapsed": 1195,
     "status": "ok",
     "timestamp": 1575119901843,
     "user": {
      "displayName": "Nguyễn Trường Lâu",
      "photoUrl": "https://lh3.googleusercontent.com/a-/AAuE7mC_FN52BosV4NF1xq8bOGg6BR3ogsiIp_D3lLaXbw=s64",
      "userId": "01817833846686706243"
     },
     "user_tz": -420
    },
    "id": "016E6fO-Epmf",
    "outputId": "b5b6cc42-8e2c-4041-f960-b24231792e09"
   },
   "outputs": [
    {
     "data": {
      "text/html": [
       "<div>\n",
       "<style scoped>\n",
       "    .dataframe tbody tr th:only-of-type {\n",
       "        vertical-align: middle;\n",
       "    }\n",
       "\n",
       "    .dataframe tbody tr th {\n",
       "        vertical-align: top;\n",
       "    }\n",
       "\n",
       "    .dataframe thead th {\n",
       "        text-align: right;\n",
       "    }\n",
       "</style>\n",
       "<table border=\"1\" class=\"dataframe\">\n",
       "  <thead>\n",
       "    <tr style=\"text-align: right;\">\n",
       "      <th></th>\n",
       "      <th>age</th>\n",
       "      <th>job</th>\n",
       "      <th>marital</th>\n",
       "      <th>education</th>\n",
       "      <th>default</th>\n",
       "      <th>balance</th>\n",
       "      <th>housing</th>\n",
       "      <th>loan</th>\n",
       "      <th>day</th>\n",
       "      <th>month</th>\n",
       "      <th>duration</th>\n",
       "      <th>campaign</th>\n",
       "      <th>pdays</th>\n",
       "      <th>previous</th>\n",
       "      <th>poutcome</th>\n",
       "      <th>y</th>\n",
       "    </tr>\n",
       "  </thead>\n",
       "  <tbody>\n",
       "    <tr>\n",
       "      <th>0</th>\n",
       "      <td>50</td>\n",
       "      <td>management</td>\n",
       "      <td>married</td>\n",
       "      <td>tertiary</td>\n",
       "      <td>no</td>\n",
       "      <td>2143</td>\n",
       "      <td>yes</td>\n",
       "      <td>no</td>\n",
       "      <td>5</td>\n",
       "      <td>5</td>\n",
       "      <td>4.35</td>\n",
       "      <td>1</td>\n",
       "      <td>-1</td>\n",
       "      <td>0</td>\n",
       "      <td>unknown</td>\n",
       "      <td>0</td>\n",
       "    </tr>\n",
       "    <tr>\n",
       "      <th>1</th>\n",
       "      <td>40</td>\n",
       "      <td>technician</td>\n",
       "      <td>single</td>\n",
       "      <td>secondary</td>\n",
       "      <td>no</td>\n",
       "      <td>29</td>\n",
       "      <td>yes</td>\n",
       "      <td>no</td>\n",
       "      <td>5</td>\n",
       "      <td>5</td>\n",
       "      <td>2.52</td>\n",
       "      <td>1</td>\n",
       "      <td>-1</td>\n",
       "      <td>0</td>\n",
       "      <td>unknown</td>\n",
       "      <td>0</td>\n",
       "    </tr>\n",
       "    <tr>\n",
       "      <th>2</th>\n",
       "      <td>30</td>\n",
       "      <td>entrepreneur</td>\n",
       "      <td>married</td>\n",
       "      <td>secondary</td>\n",
       "      <td>no</td>\n",
       "      <td>2</td>\n",
       "      <td>yes</td>\n",
       "      <td>yes</td>\n",
       "      <td>5</td>\n",
       "      <td>5</td>\n",
       "      <td>1.27</td>\n",
       "      <td>1</td>\n",
       "      <td>-1</td>\n",
       "      <td>0</td>\n",
       "      <td>unknown</td>\n",
       "      <td>0</td>\n",
       "    </tr>\n",
       "    <tr>\n",
       "      <th>5</th>\n",
       "      <td>30</td>\n",
       "      <td>management</td>\n",
       "      <td>married</td>\n",
       "      <td>tertiary</td>\n",
       "      <td>no</td>\n",
       "      <td>231</td>\n",
       "      <td>yes</td>\n",
       "      <td>no</td>\n",
       "      <td>5</td>\n",
       "      <td>5</td>\n",
       "      <td>2.32</td>\n",
       "      <td>1</td>\n",
       "      <td>-1</td>\n",
       "      <td>0</td>\n",
       "      <td>unknown</td>\n",
       "      <td>0</td>\n",
       "    </tr>\n",
       "    <tr>\n",
       "      <th>6</th>\n",
       "      <td>20</td>\n",
       "      <td>management</td>\n",
       "      <td>single</td>\n",
       "      <td>tertiary</td>\n",
       "      <td>no</td>\n",
       "      <td>447</td>\n",
       "      <td>yes</td>\n",
       "      <td>yes</td>\n",
       "      <td>5</td>\n",
       "      <td>5</td>\n",
       "      <td>3.62</td>\n",
       "      <td>1</td>\n",
       "      <td>-1</td>\n",
       "      <td>0</td>\n",
       "      <td>unknown</td>\n",
       "      <td>0</td>\n",
       "    </tr>\n",
       "  </tbody>\n",
       "</table>\n",
       "</div>"
      ],
      "text/plain": [
       "   age           job  marital  education  ... pdays  previous poutcome  y\n",
       "0   50    management  married   tertiary  ...    -1         0  unknown  0\n",
       "1   40    technician   single  secondary  ...    -1         0  unknown  0\n",
       "2   30  entrepreneur  married  secondary  ...    -1         0  unknown  0\n",
       "5   30    management  married   tertiary  ...    -1         0  unknown  0\n",
       "6   20    management   single   tertiary  ...    -1         0  unknown  0\n",
       "\n",
       "[5 rows x 16 columns]"
      ]
     },
     "execution_count": 22,
     "metadata": {
      "tags": []
     },
     "output_type": "execute_result"
    }
   ],
   "source": [
    "lst = [data]\n",
    "for column in lst:\n",
    "    column.loc[column[\"age\"] < 30,  'age'] = 20\n",
    "    column.loc[(column[\"age\"] >= 30) & (column[\"age\"] <= 39), 'age'] = 30\n",
    "    column.loc[(column[\"age\"] >= 40) & (column[\"age\"] <= 49), 'age'] = 40\n",
    "    column.loc[(column[\"age\"] >= 50) & (column[\"age\"] <= 59), 'age'] = 50\n",
    "    column.loc[column[\"age\"] >= 60, 'age'] = 60\n",
    "data.head()"
   ]
  },
  {
   "cell_type": "code",
   "execution_count": 0,
   "metadata": {
    "colab": {
     "base_uri": "https://localhost:8080/",
     "height": 224
    },
    "colab_type": "code",
    "executionInfo": {
     "elapsed": 817,
     "status": "ok",
     "timestamp": 1575015641633,
     "user": {
      "displayName": "Nguyễn Trường Lâu",
      "photoUrl": "https://lh3.googleusercontent.com/a-/AAuE7mC_FN52BosV4NF1xq8bOGg6BR3ogsiIp_D3lLaXbw=s64",
      "userId": "01817833846686706243"
     },
     "user_tz": -420
    },
    "id": "xaibbFfSPto5",
    "outputId": "027c701b-39dd-4f51-d47b-09c4b4376431"
   },
   "outputs": [
    {
     "data": {
      "text/html": [
       "<div>\n",
       "<style scoped>\n",
       "    .dataframe tbody tr th:only-of-type {\n",
       "        vertical-align: middle;\n",
       "    }\n",
       "\n",
       "    .dataframe tbody tr th {\n",
       "        vertical-align: top;\n",
       "    }\n",
       "\n",
       "    .dataframe thead th {\n",
       "        text-align: right;\n",
       "    }\n",
       "</style>\n",
       "<table border=\"1\" class=\"dataframe\">\n",
       "  <thead>\n",
       "    <tr style=\"text-align: right;\">\n",
       "      <th></th>\n",
       "      <th>age</th>\n",
       "      <th>job</th>\n",
       "      <th>marital</th>\n",
       "      <th>education</th>\n",
       "      <th>default</th>\n",
       "      <th>balance</th>\n",
       "      <th>housing</th>\n",
       "      <th>loan</th>\n",
       "      <th>day</th>\n",
       "      <th>month</th>\n",
       "      <th>duration</th>\n",
       "      <th>campaign</th>\n",
       "      <th>pdays</th>\n",
       "      <th>previous</th>\n",
       "      <th>poutcome</th>\n",
       "      <th>response</th>\n",
       "    </tr>\n",
       "  </thead>\n",
       "  <tbody>\n",
       "    <tr>\n",
       "      <th>0</th>\n",
       "      <td>50</td>\n",
       "      <td>management</td>\n",
       "      <td>married</td>\n",
       "      <td>tertiary</td>\n",
       "      <td>no</td>\n",
       "      <td>2143</td>\n",
       "      <td>yes</td>\n",
       "      <td>no</td>\n",
       "      <td>5</td>\n",
       "      <td>5</td>\n",
       "      <td>4.35</td>\n",
       "      <td>1</td>\n",
       "      <td>-1</td>\n",
       "      <td>0</td>\n",
       "      <td>unknown</td>\n",
       "      <td>0</td>\n",
       "    </tr>\n",
       "    <tr>\n",
       "      <th>1</th>\n",
       "      <td>40</td>\n",
       "      <td>technician</td>\n",
       "      <td>single</td>\n",
       "      <td>secondary</td>\n",
       "      <td>no</td>\n",
       "      <td>29</td>\n",
       "      <td>yes</td>\n",
       "      <td>no</td>\n",
       "      <td>5</td>\n",
       "      <td>5</td>\n",
       "      <td>2.52</td>\n",
       "      <td>1</td>\n",
       "      <td>-1</td>\n",
       "      <td>0</td>\n",
       "      <td>unknown</td>\n",
       "      <td>0</td>\n",
       "    </tr>\n",
       "    <tr>\n",
       "      <th>2</th>\n",
       "      <td>30</td>\n",
       "      <td>entrepreneur</td>\n",
       "      <td>married</td>\n",
       "      <td>secondary</td>\n",
       "      <td>no</td>\n",
       "      <td>2</td>\n",
       "      <td>yes</td>\n",
       "      <td>yes</td>\n",
       "      <td>5</td>\n",
       "      <td>5</td>\n",
       "      <td>1.27</td>\n",
       "      <td>1</td>\n",
       "      <td>-1</td>\n",
       "      <td>0</td>\n",
       "      <td>unknown</td>\n",
       "      <td>0</td>\n",
       "    </tr>\n",
       "    <tr>\n",
       "      <th>5</th>\n",
       "      <td>30</td>\n",
       "      <td>management</td>\n",
       "      <td>married</td>\n",
       "      <td>tertiary</td>\n",
       "      <td>no</td>\n",
       "      <td>231</td>\n",
       "      <td>yes</td>\n",
       "      <td>no</td>\n",
       "      <td>5</td>\n",
       "      <td>5</td>\n",
       "      <td>2.32</td>\n",
       "      <td>1</td>\n",
       "      <td>-1</td>\n",
       "      <td>0</td>\n",
       "      <td>unknown</td>\n",
       "      <td>0</td>\n",
       "    </tr>\n",
       "    <tr>\n",
       "      <th>6</th>\n",
       "      <td>20</td>\n",
       "      <td>management</td>\n",
       "      <td>single</td>\n",
       "      <td>tertiary</td>\n",
       "      <td>no</td>\n",
       "      <td>447</td>\n",
       "      <td>yes</td>\n",
       "      <td>yes</td>\n",
       "      <td>5</td>\n",
       "      <td>5</td>\n",
       "      <td>3.62</td>\n",
       "      <td>1</td>\n",
       "      <td>-1</td>\n",
       "      <td>0</td>\n",
       "      <td>unknown</td>\n",
       "      <td>0</td>\n",
       "    </tr>\n",
       "  </tbody>\n",
       "</table>\n",
       "</div>"
      ],
      "text/plain": [
       "   age           job  marital  education  ... pdays previous poutcome response\n",
       "0   50    management  married   tertiary  ...    -1        0  unknown        0\n",
       "1   40    technician   single  secondary  ...    -1        0  unknown        0\n",
       "2   30  entrepreneur  married  secondary  ...    -1        0  unknown        0\n",
       "5   30    management  married   tertiary  ...    -1        0  unknown        0\n",
       "6   20    management   single   tertiary  ...    -1        0  unknown        0\n",
       "\n",
       "[5 rows x 16 columns]"
      ]
     },
     "execution_count": 102,
     "metadata": {
      "tags": []
     },
     "output_type": "execute_result"
    }
   ],
   "source": [
    "data=data.drop('age_group', axis=1)\n",
    "data.head()"
   ]
  },
  {
   "cell_type": "code",
   "execution_count": 0,
   "metadata": {
    "colab": {
     "base_uri": "https://localhost:8080/",
     "height": 405
    },
    "colab_type": "code",
    "executionInfo": {
     "elapsed": 1309,
     "status": "ok",
     "timestamp": 1575013755085,
     "user": {
      "displayName": "Nguyễn Trường Lâu",
      "photoUrl": "https://lh3.googleusercontent.com/a-/AAuE7mC_FN52BosV4NF1xq8bOGg6BR3ogsiIp_D3lLaXbw=s64",
      "userId": "01817833846686706243"
     },
     "user_tz": -420
    },
    "id": "qhUzMZ5iG3z4",
    "outputId": "3d84b168-8e34-466a-d8dd-2fc63f23a4d0"
   },
   "outputs": [
    {
     "data": {
      "image/png": "[encoded data removed]",
      "text/plain": [
       "<Figure size 576x432 with 1 Axes>"
      ]
     },
     "metadata": {
      "tags": []
     },
     "output_type": "display_data"
    }
   ],
   "source": [
    "count_age_response_pct = pd.crosstab(data['response'],data['age']).apply(lambda x: x/x.sum() * 100)\n",
    "count_age_response_pct = count_age_response_pct.transpose()\n",
    "age = pd.DataFrame(data['age'].value_counts())\n",
    "age['% Contacted'] = age['age']*100/age['age'].sum()\n",
    "age['% Subscription'] = count_age_response_pct[1]\n",
    "age.drop('age',axis = 1,inplace = True)\n",
    "\n",
    "age['age'] = [30,40,50,20,60]\n",
    "age = age.sort_values('age',ascending = True)\n",
    "plot_age = age[['% Subscription','% Contacted']].plot(kind = 'bar',\n",
    "                                              figsize=(8,6), color = ('green','red'))\n",
    "plt.xlabel('Age Group')\n",
    "plt.ylabel('Subscription Rate')\n",
    "plt.xticks(np.arange(5), ('<30', '30-39', '40-49', '50-59', '60+'),rotation = 'horizontal')\n",
    "plt.title('Tham gia & Phần trăm liên lạc theo độ tuổi ')\n",
    "plt.show()"
   ]
  },
  {
   "cell_type": "code",
   "execution_count": 0,
   "metadata": {
    "colab": {},
    "colab_type": "code",
    "id": "v1H5BpwcIzCo"
   },
   "outputs": [],
   "source": [
    "#Ta thấy, những khách hàng ở độ tuổi từ 60 trở lên có tỷ lệ đăng ký cao nhất, đứng thứ hai là độ tuổi tử 18->29. Việc này không khó hiểu khi ta ngoài 60 thì\n",
    "#ta có xu hướng tiết kiệm hơn sau khi nghỉ hưu so với trung niên, họ có xu hướng tích cực hơn với mục tiêu chính là tạo thu nhập đầu tư cao. Tiền gửi có kỳ hạn là công cụ đầu tư ít\n",
    "#rủi ro nhất và được ưu tiên hơn so với người lớn tuổi nhất. Đối với người trẻ thì họ không có đủ tiền hoặc kiến thưc chuyên môn để tham gia vào các khoản đầu tư lớn như cổ phiếu nên việc\n",
    "#gửi tiền có kỳ hạn cung cấp khoản thu nhập cao hơn tài khoản tiết kiệm thông thường\n",
    "#Tuy nhiên các thanh dọc màu đỏ cho thấy ngân hàng đang tập trung nỗ lực tiếp thị vào nhóm trung niên. Do đó, để làm cho chiến dịch tiệp thị hiệu quả hơn ngân hàng nên nhắm đến đối tượng\n",
    "#khách hàng trẻ và già hơn trong tương lai."
   ]
  },
  {
   "cell_type": "code",
   "execution_count": 0,
   "metadata": {
    "colab": {
     "base_uri": "https://localhost:8080/",
     "height": 224
    },
    "colab_type": "code",
    "executionInfo": {
     "elapsed": 815,
     "status": "ok",
     "timestamp": 1575016096840,
     "user": {
      "displayName": "Nguyễn Trường Lâu",
      "photoUrl": "https://lh3.googleusercontent.com/a-/AAuE7mC_FN52BosV4NF1xq8bOGg6BR3ogsiIp_D3lLaXbw=s64",
      "userId": "01817833846686706243"
     },
     "user_tz": -420
    },
    "id": "rKXYcKOpPe6O",
    "outputId": "5cbc948e-fb53-4d12-c0df-78d810e0bbb5"
   },
   "outputs": [
    {
     "data": {
      "text/html": [
       "<div>\n",
       "<style scoped>\n",
       "    .dataframe tbody tr th:only-of-type {\n",
       "        vertical-align: middle;\n",
       "    }\n",
       "\n",
       "    .dataframe tbody tr th {\n",
       "        vertical-align: top;\n",
       "    }\n",
       "\n",
       "    .dataframe thead th {\n",
       "        text-align: right;\n",
       "    }\n",
       "</style>\n",
       "<table border=\"1\" class=\"dataframe\">\n",
       "  <thead>\n",
       "    <tr style=\"text-align: right;\">\n",
       "      <th></th>\n",
       "      <th>age</th>\n",
       "      <th>job</th>\n",
       "      <th>marital</th>\n",
       "      <th>education</th>\n",
       "      <th>default</th>\n",
       "      <th>balance</th>\n",
       "      <th>housing</th>\n",
       "      <th>loan</th>\n",
       "      <th>day</th>\n",
       "      <th>month</th>\n",
       "      <th>duration</th>\n",
       "      <th>campaign</th>\n",
       "      <th>pdays</th>\n",
       "      <th>previous</th>\n",
       "      <th>poutcome</th>\n",
       "      <th>response</th>\n",
       "    </tr>\n",
       "  </thead>\n",
       "  <tbody>\n",
       "    <tr>\n",
       "      <th>0</th>\n",
       "      <td>50</td>\n",
       "      <td>management</td>\n",
       "      <td>married</td>\n",
       "      <td>tertiary</td>\n",
       "      <td>no</td>\n",
       "      <td>2143</td>\n",
       "      <td>yes</td>\n",
       "      <td>no</td>\n",
       "      <td>5</td>\n",
       "      <td>5</td>\n",
       "      <td>4.35</td>\n",
       "      <td>1</td>\n",
       "      <td>-1</td>\n",
       "      <td>0</td>\n",
       "      <td>unknown</td>\n",
       "      <td>0</td>\n",
       "    </tr>\n",
       "    <tr>\n",
       "      <th>1</th>\n",
       "      <td>40</td>\n",
       "      <td>technician</td>\n",
       "      <td>single</td>\n",
       "      <td>secondary</td>\n",
       "      <td>no</td>\n",
       "      <td>29</td>\n",
       "      <td>yes</td>\n",
       "      <td>no</td>\n",
       "      <td>5</td>\n",
       "      <td>5</td>\n",
       "      <td>2.52</td>\n",
       "      <td>1</td>\n",
       "      <td>-1</td>\n",
       "      <td>0</td>\n",
       "      <td>unknown</td>\n",
       "      <td>0</td>\n",
       "    </tr>\n",
       "    <tr>\n",
       "      <th>2</th>\n",
       "      <td>30</td>\n",
       "      <td>entrepreneur</td>\n",
       "      <td>married</td>\n",
       "      <td>secondary</td>\n",
       "      <td>no</td>\n",
       "      <td>2</td>\n",
       "      <td>yes</td>\n",
       "      <td>yes</td>\n",
       "      <td>5</td>\n",
       "      <td>5</td>\n",
       "      <td>1.27</td>\n",
       "      <td>1</td>\n",
       "      <td>-1</td>\n",
       "      <td>0</td>\n",
       "      <td>unknown</td>\n",
       "      <td>0</td>\n",
       "    </tr>\n",
       "    <tr>\n",
       "      <th>5</th>\n",
       "      <td>30</td>\n",
       "      <td>management</td>\n",
       "      <td>married</td>\n",
       "      <td>tertiary</td>\n",
       "      <td>no</td>\n",
       "      <td>231</td>\n",
       "      <td>yes</td>\n",
       "      <td>no</td>\n",
       "      <td>5</td>\n",
       "      <td>5</td>\n",
       "      <td>2.32</td>\n",
       "      <td>1</td>\n",
       "      <td>-1</td>\n",
       "      <td>0</td>\n",
       "      <td>unknown</td>\n",
       "      <td>0</td>\n",
       "    </tr>\n",
       "    <tr>\n",
       "      <th>6</th>\n",
       "      <td>20</td>\n",
       "      <td>management</td>\n",
       "      <td>single</td>\n",
       "      <td>tertiary</td>\n",
       "      <td>no</td>\n",
       "      <td>447</td>\n",
       "      <td>yes</td>\n",
       "      <td>yes</td>\n",
       "      <td>5</td>\n",
       "      <td>5</td>\n",
       "      <td>3.62</td>\n",
       "      <td>1</td>\n",
       "      <td>-1</td>\n",
       "      <td>0</td>\n",
       "      <td>unknown</td>\n",
       "      <td>0</td>\n",
       "    </tr>\n",
       "  </tbody>\n",
       "</table>\n",
       "</div>"
      ],
      "text/plain": [
       "   age           job  marital  education  ... pdays previous poutcome response\n",
       "0   50    management  married   tertiary  ...    -1        0  unknown        0\n",
       "1   40    technician   single  secondary  ...    -1        0  unknown        0\n",
       "2   30  entrepreneur  married  secondary  ...    -1        0  unknown        0\n",
       "5   30    management  married   tertiary  ...    -1        0  unknown        0\n",
       "6   20    management   single   tertiary  ...    -1        0  unknown        0\n",
       "\n",
       "[5 rows x 16 columns]"
      ]
     },
     "execution_count": 108,
     "metadata": {
      "tags": []
     },
     "output_type": "execute_result"
    }
   ],
   "source": [
    "data.head()"
   ]
  },
  {
   "cell_type": "code",
   "execution_count": 0,
   "metadata": {
    "colab": {},
    "colab_type": "code",
    "id": "BmAzXK13Sf5B"
   },
   "outputs": [],
   "source": [
    "#Nhìn vào biểu đồ giữa tham gia và tiền dư ta thấy, những khách hàng có tiền dư thấp thì phần trăm dăng ký thấp, điều này không gì nhạc nhiên.\n",
    "#Khách hàng có số dư trung bình và cao thì phần trăm tham gia gửi tiền cao hơn khoảng 15%. Tuy nhiên trong chiến dịch này, hơn 50% khách hàng chỉ có mức\n",
    "#số dư hằng năm thấp. Vì thế ngân hàng cần có chính sách chuyển trọng tâm tiếp thị của mình sang khách hàng có số dư cao để đảm bảo tiền gửi có kỳ hạn nhiều hơn."
   ]
  },
  {
   "cell_type": "code",
   "execution_count": 0,
   "metadata": {
    "colab": {
     "base_uri": "https://localhost:8080/",
     "height": 425
    },
    "colab_type": "code",
    "executionInfo": {
     "elapsed": 1630,
     "status": "ok",
     "timestamp": 1575017102471,
     "user": {
      "displayName": "Nguyễn Trường Lâu",
      "photoUrl": "https://lh3.googleusercontent.com/a-/AAuE7mC_FN52BosV4NF1xq8bOGg6BR3ogsiIp_D3lLaXbw=s64",
      "userId": "01817833846686706243"
     },
     "user_tz": -420
    },
    "id": "iPIc_kryTeXu",
    "outputId": "5990db01-8a06-45ad-a7e6-35ebf983d0f4"
   },
   "outputs": [
    {
     "data": {
      "image/png": "[encoded data removed]",
      "text/plain": [
       "<Figure size 864x432 with 1 Axes>"
      ]
     },
     "metadata": {
      "tags": []
     },
     "output_type": "display_data"
    }
   ],
   "source": [
    "count_job_response_pct = pd.crosstab(data['response'],data['job']).apply(lambda x: x/x.sum() * 100)\n",
    "count_job_response_pct = count_job_response_pct.transpose()\n",
    "plot_job = count_job_response_pct[1].sort_values(ascending = True).plot(kind ='barh',\n",
    "                                                                           figsize = (12,6))\n",
    "                                                                               \n",
    "plt.title('Tỷ lệ tham gia theo nghề nghiệp')\n",
    "plt.xlabel('Subscription Rate')\n",
    "plt.ylabel('Job Category')\n",
    "\n",
    "# Label each bar\n",
    "for rec, label in zip(plot_job.patches,\n",
    "                      count_job_response_pct[1].sort_values(ascending = True).round(1).astype(str)):\n",
    "    plot_job.text(rec.get_width()+0.8, \n",
    "                  rec.get_y()+ rec.get_height()-0.5, \n",
    "                  label+'%', \n",
    "                  ha = 'center', \n",
    "                  va='bottom')"
   ]
  },
  {
   "cell_type": "code",
   "execution_count": 0,
   "metadata": {
    "colab": {},
    "colab_type": "code",
    "id": "KsZqhnlsVdbs"
   },
   "outputs": [],
   "source": [
    "#Biểu đồ này một lần nửa khẳng định rằng sinh viên (lớp trẻ) và những khách hàng nghỉ hưu có tỉ lệ tham gia gửi tiền có kỳ hạn cao nhất"
   ]
  },
  {
   "cell_type": "code",
   "execution_count": 0,
   "metadata": {
    "colab": {
     "base_uri": "https://localhost:8080/",
     "height": 424
    },
    "colab_type": "code",
    "executionInfo": {
     "elapsed": 2839,
     "status": "ok",
     "timestamp": 1575017456657,
     "user": {
      "displayName": "Nguyễn Trường Lâu",
      "photoUrl": "https://lh3.googleusercontent.com/a-/AAuE7mC_FN52BosV4NF1xq8bOGg6BR3ogsiIp_D3lLaXbw=s64",
      "userId": "01817833846686706243"
     },
     "user_tz": -420
    },
    "id": "JIh6JloSV4a0",
    "outputId": "f7b171d4-8957-468c-bbdb-bba1aa492626"
   },
   "outputs": [
    {
     "data": {
      "image/png": "[encoded data removed]",
      "text/plain": [
       "<Figure size 720x432 with 1 Axes>"
      ]
     },
     "metadata": {
      "tags": []
     },
     "output_type": "display_data"
    }
   ],
   "source": [
    "count_month_response_pct = pd.crosstab(data['response'],data['month']).apply(lambda x: x/x.sum() * 100)\n",
    "count_month_response_pct = count_month_response_pct.transpose()\n",
    "month = pd.DataFrame(data['month'].value_counts())\n",
    "month['% Contacted'] = month['month']*100/month['month'].sum()\n",
    "month['% Subscription'] = count_month_response_pct[1]\n",
    "month.drop('month',axis = 1,inplace = True)\n",
    "\n",
    "month['Month'] = [5,7,8,6,11,4,2,1,10,9,3,12]\n",
    "month = month.sort_values('Month',ascending = True)\n",
    "plot_month = month[['% Subscription','% Contacted']].plot(kind ='line',\n",
    "                                                          figsize = (10,6),\n",
    "                                                          marker = 'o')\n",
    "\n",
    "plt.title('Đăng ký & Liên lạc theo tháng')\n",
    "plt.ylabel('Subscription and Contact Rate')\n",
    "plt.xlabel('Month')\n",
    "\n",
    "ticks = np.arange(1,13,1)\n",
    "plt.xticks(ticks)\n",
    "\n",
    "# Annotation: peak of contact\n",
    "y = month['% Contacted'].max()\n",
    "x = month['% Contacted'].idxmax()\n",
    "plt.annotate('Tháng 5: tỷ lệ liên lạc cao nhất', xy=(x+0.1, y+0.1), xytext=(x+1,y+4), arrowprops=dict(facecolor='black', headwidth=6, width=1, headlength=4), horizontalalignment='left', verticalalignment='top')\n",
    "\n",
    "# Annotation: peak of subscription rate\n",
    "y = month['% Subscription'].max()\n",
    "x = month['% Subscription'].idxmax()\n",
    "plt.annotate('Tháng 3: tỷ lệ đăng ký cao nhất', xy=(x+0.1, y+0.1), xytext=(x+1,y+1), arrowprops=dict(facecolor='black', headwidth=6, width=1, headlength=4), horizontalalignment='left', verticalalignment='top')\n",
    "\n",
    "plt.show()\n"
   ]
  },
  {
   "cell_type": "code",
   "execution_count": 0,
   "metadata": {
    "colab": {},
    "colab_type": "code",
    "id": "tcAcZO4EW3o7"
   },
   "outputs": [],
   "source": [
    "#Bên cạnh đặc điểm khách hàng thì yếu tố bên ngoài cũng ảnh hưởng đến tỷ lệ đăng ký, chẳng hạn như mùa và thời gian gọi. Vì vậy tháng liên lạc theo tháng cũng được phân tích ở đây\n",
    "#Ngân hàng đã liên hệ với khách hàng hầu hết là tháng 5-> tháng 8, tuy nhiên tỷ lệ đăng ký lại có xu hướng ngược lại so với tỷ lệ liên lạc,\n",
    "#Đồng thời tỷ lệ đăng ký ở tháng 2->4 và 9->10 lại cao hơn trong khi tỷ lệ liên hệ lại thấp, điều đó cho thấy ngân hàng đang đi sai đường, vì thế ngân hàng nên chuyển thời điểm tiếp thị vào mùa xuân và mùa thu\n",
    "#để nâng cao hiệu quả tiếp thị.\n",
    "#Tuy nhiên, ngân hàng phải thận trọng bởi vì yếu tố này có thể mang tính chất thời gian nên có thể thay đổi quan từng năm."
   ]
  },
  {
   "cell_type": "code",
   "execution_count": 0,
   "metadata": {
    "colab": {
     "base_uri": "https://localhost:8080/",
     "height": 224
    },
    "colab_type": "code",
    "executionInfo": {
     "elapsed": 1020,
     "status": "ok",
     "timestamp": 1575017979971,
     "user": {
      "displayName": "Nguyễn Trường Lâu",
      "photoUrl": "https://lh3.googleusercontent.com/a-/AAuE7mC_FN52BosV4NF1xq8bOGg6BR3ogsiIp_D3lLaXbw=s64",
      "userId": "01817833846686706243"
     },
     "user_tz": -420
    },
    "id": "QKX_94xvYrgG",
    "outputId": "952e14d0-8c69-4b5d-edae-f9d4b17c5854"
   },
   "outputs": [
    {
     "data": {
      "text/html": [
       "<div>\n",
       "<style scoped>\n",
       "    .dataframe tbody tr th:only-of-type {\n",
       "        vertical-align: middle;\n",
       "    }\n",
       "\n",
       "    .dataframe tbody tr th {\n",
       "        vertical-align: top;\n",
       "    }\n",
       "\n",
       "    .dataframe thead th {\n",
       "        text-align: right;\n",
       "    }\n",
       "</style>\n",
       "<table border=\"1\" class=\"dataframe\">\n",
       "  <thead>\n",
       "    <tr style=\"text-align: right;\">\n",
       "      <th></th>\n",
       "      <th>age</th>\n",
       "      <th>job</th>\n",
       "      <th>marital</th>\n",
       "      <th>education</th>\n",
       "      <th>default</th>\n",
       "      <th>balance</th>\n",
       "      <th>housing</th>\n",
       "      <th>loan</th>\n",
       "      <th>day</th>\n",
       "      <th>month</th>\n",
       "      <th>duration</th>\n",
       "      <th>campaign</th>\n",
       "      <th>pdays</th>\n",
       "      <th>previous</th>\n",
       "      <th>poutcome</th>\n",
       "      <th>response</th>\n",
       "    </tr>\n",
       "  </thead>\n",
       "  <tbody>\n",
       "    <tr>\n",
       "      <th>0</th>\n",
       "      <td>50</td>\n",
       "      <td>management</td>\n",
       "      <td>married</td>\n",
       "      <td>tertiary</td>\n",
       "      <td>no</td>\n",
       "      <td>2143</td>\n",
       "      <td>yes</td>\n",
       "      <td>no</td>\n",
       "      <td>5</td>\n",
       "      <td>5</td>\n",
       "      <td>4.35</td>\n",
       "      <td>1</td>\n",
       "      <td>-1</td>\n",
       "      <td>0</td>\n",
       "      <td>unknown</td>\n",
       "      <td>0</td>\n",
       "    </tr>\n",
       "    <tr>\n",
       "      <th>1</th>\n",
       "      <td>40</td>\n",
       "      <td>technician</td>\n",
       "      <td>single</td>\n",
       "      <td>secondary</td>\n",
       "      <td>no</td>\n",
       "      <td>29</td>\n",
       "      <td>yes</td>\n",
       "      <td>no</td>\n",
       "      <td>5</td>\n",
       "      <td>5</td>\n",
       "      <td>2.52</td>\n",
       "      <td>1</td>\n",
       "      <td>-1</td>\n",
       "      <td>0</td>\n",
       "      <td>unknown</td>\n",
       "      <td>0</td>\n",
       "    </tr>\n",
       "    <tr>\n",
       "      <th>2</th>\n",
       "      <td>30</td>\n",
       "      <td>entrepreneur</td>\n",
       "      <td>married</td>\n",
       "      <td>secondary</td>\n",
       "      <td>no</td>\n",
       "      <td>2</td>\n",
       "      <td>yes</td>\n",
       "      <td>yes</td>\n",
       "      <td>5</td>\n",
       "      <td>5</td>\n",
       "      <td>1.27</td>\n",
       "      <td>1</td>\n",
       "      <td>-1</td>\n",
       "      <td>0</td>\n",
       "      <td>unknown</td>\n",
       "      <td>0</td>\n",
       "    </tr>\n",
       "    <tr>\n",
       "      <th>5</th>\n",
       "      <td>30</td>\n",
       "      <td>management</td>\n",
       "      <td>married</td>\n",
       "      <td>tertiary</td>\n",
       "      <td>no</td>\n",
       "      <td>231</td>\n",
       "      <td>yes</td>\n",
       "      <td>no</td>\n",
       "      <td>5</td>\n",
       "      <td>5</td>\n",
       "      <td>2.32</td>\n",
       "      <td>1</td>\n",
       "      <td>-1</td>\n",
       "      <td>0</td>\n",
       "      <td>unknown</td>\n",
       "      <td>0</td>\n",
       "    </tr>\n",
       "    <tr>\n",
       "      <th>6</th>\n",
       "      <td>20</td>\n",
       "      <td>management</td>\n",
       "      <td>single</td>\n",
       "      <td>tertiary</td>\n",
       "      <td>no</td>\n",
       "      <td>447</td>\n",
       "      <td>yes</td>\n",
       "      <td>yes</td>\n",
       "      <td>5</td>\n",
       "      <td>5</td>\n",
       "      <td>3.62</td>\n",
       "      <td>1</td>\n",
       "      <td>-1</td>\n",
       "      <td>0</td>\n",
       "      <td>unknown</td>\n",
       "      <td>0</td>\n",
       "    </tr>\n",
       "  </tbody>\n",
       "</table>\n",
       "</div>"
      ],
      "text/plain": [
       "   age           job  marital  education  ... pdays previous poutcome response\n",
       "0   50    management  married   tertiary  ...    -1        0  unknown        0\n",
       "1   40    technician   single  secondary  ...    -1        0  unknown        0\n",
       "2   30  entrepreneur  married  secondary  ...    -1        0  unknown        0\n",
       "5   30    management  married   tertiary  ...    -1        0  unknown        0\n",
       "6   20    management   single   tertiary  ...    -1        0  unknown        0\n",
       "\n",
       "[5 rows x 16 columns]"
      ]
     },
     "execution_count": 122,
     "metadata": {
      "tags": []
     },
     "output_type": "execute_result"
    }
   ],
   "source": [
    "data.head()"
   ]
  },
  {
   "cell_type": "markdown",
   "metadata": {
    "colab_type": "text",
    "id": "QfMaceSDZN4R"
   },
   "source": [
    "# Part 4. Normalization Data"
   ]
  },
  {
   "cell_type": "code",
   "execution_count": 0,
   "metadata": {
    "colab": {
     "base_uri": "https://localhost:8080/",
     "height": 204
    },
    "colab_type": "code",
    "executionInfo": {
     "elapsed": 1278,
     "status": "ok",
     "timestamp": 1575119945968,
     "user": {
      "displayName": "Nguyễn Trường Lâu",
      "photoUrl": "https://lh3.googleusercontent.com/a-/AAuE7mC_FN52BosV4NF1xq8bOGg6BR3ogsiIp_D3lLaXbw=s64",
      "userId": "01817833846686706243"
     },
     "user_tz": -420
    },
    "id": "qvDKf6q2ZVMT",
    "outputId": "f24922ca-510b-4a4f-87ba-fc5c3b36feaf"
   },
   "outputs": [
    {
     "data": {
      "text/html": [
       "<div>\n",
       "<style scoped>\n",
       "    .dataframe tbody tr th:only-of-type {\n",
       "        vertical-align: middle;\n",
       "    }\n",
       "\n",
       "    .dataframe tbody tr th {\n",
       "        vertical-align: top;\n",
       "    }\n",
       "\n",
       "    .dataframe thead th {\n",
       "        text-align: right;\n",
       "    }\n",
       "</style>\n",
       "<table border=\"1\" class=\"dataframe\">\n",
       "  <thead>\n",
       "    <tr style=\"text-align: right;\">\n",
       "      <th></th>\n",
       "      <th>age</th>\n",
       "      <th>job</th>\n",
       "      <th>marital</th>\n",
       "      <th>education</th>\n",
       "      <th>default</th>\n",
       "      <th>balance</th>\n",
       "      <th>housing</th>\n",
       "      <th>loan</th>\n",
       "      <th>day</th>\n",
       "      <th>month</th>\n",
       "      <th>duration</th>\n",
       "      <th>campaign</th>\n",
       "      <th>pdays</th>\n",
       "      <th>previous</th>\n",
       "      <th>poutcome</th>\n",
       "      <th>y</th>\n",
       "    </tr>\n",
       "  </thead>\n",
       "  <tbody>\n",
       "    <tr>\n",
       "      <th>0</th>\n",
       "      <td>50</td>\n",
       "      <td>4</td>\n",
       "      <td>1</td>\n",
       "      <td>2</td>\n",
       "      <td>0</td>\n",
       "      <td>2143</td>\n",
       "      <td>1</td>\n",
       "      <td>0</td>\n",
       "      <td>5</td>\n",
       "      <td>5</td>\n",
       "      <td>4.35</td>\n",
       "      <td>1</td>\n",
       "      <td>-1</td>\n",
       "      <td>0</td>\n",
       "      <td>unknown</td>\n",
       "      <td>0</td>\n",
       "    </tr>\n",
       "    <tr>\n",
       "      <th>1</th>\n",
       "      <td>40</td>\n",
       "      <td>9</td>\n",
       "      <td>2</td>\n",
       "      <td>1</td>\n",
       "      <td>0</td>\n",
       "      <td>29</td>\n",
       "      <td>1</td>\n",
       "      <td>0</td>\n",
       "      <td>5</td>\n",
       "      <td>5</td>\n",
       "      <td>2.52</td>\n",
       "      <td>1</td>\n",
       "      <td>-1</td>\n",
       "      <td>0</td>\n",
       "      <td>unknown</td>\n",
       "      <td>0</td>\n",
       "    </tr>\n",
       "    <tr>\n",
       "      <th>2</th>\n",
       "      <td>30</td>\n",
       "      <td>2</td>\n",
       "      <td>1</td>\n",
       "      <td>1</td>\n",
       "      <td>0</td>\n",
       "      <td>2</td>\n",
       "      <td>1</td>\n",
       "      <td>1</td>\n",
       "      <td>5</td>\n",
       "      <td>5</td>\n",
       "      <td>1.27</td>\n",
       "      <td>1</td>\n",
       "      <td>-1</td>\n",
       "      <td>0</td>\n",
       "      <td>unknown</td>\n",
       "      <td>0</td>\n",
       "    </tr>\n",
       "    <tr>\n",
       "      <th>5</th>\n",
       "      <td>30</td>\n",
       "      <td>4</td>\n",
       "      <td>1</td>\n",
       "      <td>2</td>\n",
       "      <td>0</td>\n",
       "      <td>231</td>\n",
       "      <td>1</td>\n",
       "      <td>0</td>\n",
       "      <td>5</td>\n",
       "      <td>5</td>\n",
       "      <td>2.32</td>\n",
       "      <td>1</td>\n",
       "      <td>-1</td>\n",
       "      <td>0</td>\n",
       "      <td>unknown</td>\n",
       "      <td>0</td>\n",
       "    </tr>\n",
       "    <tr>\n",
       "      <th>6</th>\n",
       "      <td>20</td>\n",
       "      <td>4</td>\n",
       "      <td>2</td>\n",
       "      <td>2</td>\n",
       "      <td>0</td>\n",
       "      <td>447</td>\n",
       "      <td>1</td>\n",
       "      <td>1</td>\n",
       "      <td>5</td>\n",
       "      <td>5</td>\n",
       "      <td>3.62</td>\n",
       "      <td>1</td>\n",
       "      <td>-1</td>\n",
       "      <td>0</td>\n",
       "      <td>unknown</td>\n",
       "      <td>0</td>\n",
       "    </tr>\n",
       "  </tbody>\n",
       "</table>\n",
       "</div>"
      ],
      "text/plain": [
       "   age  job  marital  education  default  ...  campaign  pdays  previous  poutcome  y\n",
       "0   50    4        1          2        0  ...         1     -1         0   unknown  0\n",
       "1   40    9        2          1        0  ...         1     -1         0   unknown  0\n",
       "2   30    2        1          1        0  ...         1     -1         0   unknown  0\n",
       "5   30    4        1          2        0  ...         1     -1         0   unknown  0\n",
       "6   20    4        2          2        0  ...         1     -1         0   unknown  0\n",
       "\n",
       "[5 rows x 16 columns]"
      ]
     },
     "execution_count": 23,
     "metadata": {
      "tags": []
     },
     "output_type": "execute_result"
    }
   ],
   "source": [
    "from sklearn.preprocessing import LabelEncoder\n",
    "labelencoder_X = LabelEncoder()\n",
    "data['job']      = labelencoder_X.fit_transform(data['job']) \n",
    "data['marital']  = labelencoder_X.fit_transform(data['marital']) \n",
    "data['education']= labelencoder_X.fit_transform(data['education']) \n",
    "data['default']  = labelencoder_X.fit_transform(data['default']) \n",
    "data['housing']  = labelencoder_X.fit_transform(data['housing']) \n",
    "data['loan']     = labelencoder_X.fit_transform(data['loan'])\n",
    "data.head()"
   ]
  },
  {
   "cell_type": "code",
   "execution_count": 0,
   "metadata": {
    "colab": {
     "base_uri": "https://localhost:8080/",
     "height": 204
    },
    "colab_type": "code",
    "executionInfo": {
     "elapsed": 1092,
     "status": "ok",
     "timestamp": 1575119960205,
     "user": {
      "displayName": "Nguyễn Trường Lâu",
      "photoUrl": "https://lh3.googleusercontent.com/a-/AAuE7mC_FN52BosV4NF1xq8bOGg6BR3ogsiIp_D3lLaXbw=s64",
      "userId": "01817833846686706243"
     },
     "user_tz": -420
    },
    "id": "FzqwRt76Z3D7",
    "outputId": "7ee43606-e9ce-4fe3-e565-3db24e62280f"
   },
   "outputs": [
    {
     "data": {
      "text/html": [
       "<div>\n",
       "<style scoped>\n",
       "    .dataframe tbody tr th:only-of-type {\n",
       "        vertical-align: middle;\n",
       "    }\n",
       "\n",
       "    .dataframe tbody tr th {\n",
       "        vertical-align: top;\n",
       "    }\n",
       "\n",
       "    .dataframe thead th {\n",
       "        text-align: right;\n",
       "    }\n",
       "</style>\n",
       "<table border=\"1\" class=\"dataframe\">\n",
       "  <thead>\n",
       "    <tr style=\"text-align: right;\">\n",
       "      <th></th>\n",
       "      <th>age</th>\n",
       "      <th>job</th>\n",
       "      <th>marital</th>\n",
       "      <th>education</th>\n",
       "      <th>default</th>\n",
       "      <th>balance</th>\n",
       "      <th>housing</th>\n",
       "      <th>loan</th>\n",
       "      <th>day</th>\n",
       "      <th>month</th>\n",
       "      <th>duration</th>\n",
       "      <th>campaign</th>\n",
       "      <th>pdays</th>\n",
       "      <th>previous</th>\n",
       "      <th>poutcome</th>\n",
       "      <th>y</th>\n",
       "    </tr>\n",
       "  </thead>\n",
       "  <tbody>\n",
       "    <tr>\n",
       "      <th>0</th>\n",
       "      <td>50</td>\n",
       "      <td>4</td>\n",
       "      <td>1</td>\n",
       "      <td>2</td>\n",
       "      <td>0</td>\n",
       "      <td>2143</td>\n",
       "      <td>1</td>\n",
       "      <td>0</td>\n",
       "      <td>5</td>\n",
       "      <td>5</td>\n",
       "      <td>4.35</td>\n",
       "      <td>1</td>\n",
       "      <td>-1</td>\n",
       "      <td>0</td>\n",
       "      <td>1</td>\n",
       "      <td>0</td>\n",
       "    </tr>\n",
       "    <tr>\n",
       "      <th>1</th>\n",
       "      <td>40</td>\n",
       "      <td>9</td>\n",
       "      <td>2</td>\n",
       "      <td>1</td>\n",
       "      <td>0</td>\n",
       "      <td>29</td>\n",
       "      <td>1</td>\n",
       "      <td>0</td>\n",
       "      <td>5</td>\n",
       "      <td>5</td>\n",
       "      <td>2.52</td>\n",
       "      <td>1</td>\n",
       "      <td>-1</td>\n",
       "      <td>0</td>\n",
       "      <td>1</td>\n",
       "      <td>0</td>\n",
       "    </tr>\n",
       "    <tr>\n",
       "      <th>2</th>\n",
       "      <td>30</td>\n",
       "      <td>2</td>\n",
       "      <td>1</td>\n",
       "      <td>1</td>\n",
       "      <td>0</td>\n",
       "      <td>2</td>\n",
       "      <td>1</td>\n",
       "      <td>1</td>\n",
       "      <td>5</td>\n",
       "      <td>5</td>\n",
       "      <td>1.27</td>\n",
       "      <td>1</td>\n",
       "      <td>-1</td>\n",
       "      <td>0</td>\n",
       "      <td>1</td>\n",
       "      <td>0</td>\n",
       "    </tr>\n",
       "    <tr>\n",
       "      <th>5</th>\n",
       "      <td>30</td>\n",
       "      <td>4</td>\n",
       "      <td>1</td>\n",
       "      <td>2</td>\n",
       "      <td>0</td>\n",
       "      <td>231</td>\n",
       "      <td>1</td>\n",
       "      <td>0</td>\n",
       "      <td>5</td>\n",
       "      <td>5</td>\n",
       "      <td>2.32</td>\n",
       "      <td>1</td>\n",
       "      <td>-1</td>\n",
       "      <td>0</td>\n",
       "      <td>1</td>\n",
       "      <td>0</td>\n",
       "    </tr>\n",
       "    <tr>\n",
       "      <th>6</th>\n",
       "      <td>20</td>\n",
       "      <td>4</td>\n",
       "      <td>2</td>\n",
       "      <td>2</td>\n",
       "      <td>0</td>\n",
       "      <td>447</td>\n",
       "      <td>1</td>\n",
       "      <td>1</td>\n",
       "      <td>5</td>\n",
       "      <td>5</td>\n",
       "      <td>3.62</td>\n",
       "      <td>1</td>\n",
       "      <td>-1</td>\n",
       "      <td>0</td>\n",
       "      <td>1</td>\n",
       "      <td>0</td>\n",
       "    </tr>\n",
       "  </tbody>\n",
       "</table>\n",
       "</div>"
      ],
      "text/plain": [
       "   age  job  marital  education  ...  pdays  previous  poutcome  y\n",
       "0   50    4        1          2  ...     -1         0         1  0\n",
       "1   40    9        2          1  ...     -1         0         1  0\n",
       "2   30    2        1          1  ...     -1         0         1  0\n",
       "5   30    4        1          2  ...     -1         0         1  0\n",
       "6   20    4        2          2  ...     -1         0         1  0\n",
       "\n",
       "[5 rows x 16 columns]"
      ]
     },
     "execution_count": 24,
     "metadata": {
      "tags": []
     },
     "output_type": "execute_result"
    }
   ],
   "source": [
    "data['poutcome'].replace(['unknown', 'failure', 'other', 'success'],[1,2,3,4], inplace=True)\n",
    "data.head()"
   ]
  },
  {
   "cell_type": "code",
   "execution_count": 0,
   "metadata": {
    "colab": {},
    "colab_type": "code",
    "id": "mqfHNW4hZ92z"
   },
   "outputs": [],
   "source": [
    "data.to_csv('Trained_Data_Plus.csv')"
   ]
  }
 ],
 "metadata": {
  "colab": {
   "collapsed_sections": [],
   "name": "Normal_Data.ipynb",
   "provenance": []
  },
  "kernelspec": {
   "display_name": "Python 3",
   "language": "python",
   "name": "python3"
  },
  "language_info": {
   "codemirror_mode": {
    "name": "ipython",
    "version": 3
   },
   "file_extension": ".py",
   "mimetype": "text/x-python",
   "name": "python",
   "nbconvert_exporter": "python",
   "pygments_lexer": "ipython3",
   "version": "3.7.4"
  }
 },
 "nbformat": 4,
 "nbformat_minor": 1
}

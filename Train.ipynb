{
 "cells": [
  {
   "cell_type": "markdown",
   "metadata": {
    "colab_type": "text",
    "id": "zjav7-XBf83u"
   },
   "source": [
    "# Part 1. Tải dữ liệu lên"
   ]
  },
  {
   "cell_type": "code",
   "execution_count": 8,
   "metadata": {
    "colab": {
     "base_uri": "https://localhost:8080/",
     "height": 419
    },
    "colab_type": "code",
    "executionInfo": {
     "elapsed": 1128,
     "status": "ok",
     "timestamp": 1576036994018,
     "user": {
      "displayName": "Nguyễn Trường Lâu",
      "photoUrl": "https://lh3.googleusercontent.com/a-/AAuE7mC_FN52BosV4NF1xq8bOGg6BR3ogsiIp_D3lLaXbw=s64",
      "userId": "01817833846686706243"
     },
     "user_tz": -420
    },
    "id": "0Dg6ur7WgBcO",
    "outputId": "4c9e6a95-4411-4bf3-d6b5-9e4892d78fb3"
   },
   "outputs": [
    {
     "data": {
      "text/html": [
       "<div>\n",
       "<style scoped>\n",
       "    .dataframe tbody tr th:only-of-type {\n",
       "        vertical-align: middle;\n",
       "    }\n",
       "\n",
       "    .dataframe tbody tr th {\n",
       "        vertical-align: top;\n",
       "    }\n",
       "\n",
       "    .dataframe thead th {\n",
       "        text-align: right;\n",
       "    }\n",
       "</style>\n",
       "<table border=\"1\" class=\"dataframe\">\n",
       "  <thead>\n",
       "    <tr style=\"text-align: right;\">\n",
       "      <th></th>\n",
       "      <th>age</th>\n",
       "      <th>job</th>\n",
       "      <th>marital</th>\n",
       "      <th>education</th>\n",
       "      <th>default</th>\n",
       "      <th>balance</th>\n",
       "      <th>housing</th>\n",
       "      <th>loan</th>\n",
       "      <th>day</th>\n",
       "      <th>month</th>\n",
       "      <th>duration</th>\n",
       "      <th>campaign</th>\n",
       "      <th>pdays</th>\n",
       "      <th>previous</th>\n",
       "      <th>poutcome</th>\n",
       "      <th>y</th>\n",
       "    </tr>\n",
       "  </thead>\n",
       "  <tbody>\n",
       "    <tr>\n",
       "      <td>0</td>\n",
       "      <td>50</td>\n",
       "      <td>4</td>\n",
       "      <td>1</td>\n",
       "      <td>2</td>\n",
       "      <td>0</td>\n",
       "      <td>2143</td>\n",
       "      <td>1</td>\n",
       "      <td>0</td>\n",
       "      <td>5</td>\n",
       "      <td>5</td>\n",
       "      <td>4.35</td>\n",
       "      <td>1</td>\n",
       "      <td>-1</td>\n",
       "      <td>0</td>\n",
       "      <td>1</td>\n",
       "      <td>0</td>\n",
       "    </tr>\n",
       "    <tr>\n",
       "      <td>1</td>\n",
       "      <td>40</td>\n",
       "      <td>9</td>\n",
       "      <td>2</td>\n",
       "      <td>1</td>\n",
       "      <td>0</td>\n",
       "      <td>29</td>\n",
       "      <td>1</td>\n",
       "      <td>0</td>\n",
       "      <td>5</td>\n",
       "      <td>5</td>\n",
       "      <td>2.52</td>\n",
       "      <td>1</td>\n",
       "      <td>-1</td>\n",
       "      <td>0</td>\n",
       "      <td>1</td>\n",
       "      <td>0</td>\n",
       "    </tr>\n",
       "    <tr>\n",
       "      <td>2</td>\n",
       "      <td>30</td>\n",
       "      <td>2</td>\n",
       "      <td>1</td>\n",
       "      <td>1</td>\n",
       "      <td>0</td>\n",
       "      <td>2</td>\n",
       "      <td>1</td>\n",
       "      <td>1</td>\n",
       "      <td>5</td>\n",
       "      <td>5</td>\n",
       "      <td>1.27</td>\n",
       "      <td>1</td>\n",
       "      <td>-1</td>\n",
       "      <td>0</td>\n",
       "      <td>1</td>\n",
       "      <td>0</td>\n",
       "    </tr>\n",
       "    <tr>\n",
       "      <td>3</td>\n",
       "      <td>30</td>\n",
       "      <td>4</td>\n",
       "      <td>1</td>\n",
       "      <td>2</td>\n",
       "      <td>0</td>\n",
       "      <td>231</td>\n",
       "      <td>1</td>\n",
       "      <td>0</td>\n",
       "      <td>5</td>\n",
       "      <td>5</td>\n",
       "      <td>2.32</td>\n",
       "      <td>1</td>\n",
       "      <td>-1</td>\n",
       "      <td>0</td>\n",
       "      <td>1</td>\n",
       "      <td>0</td>\n",
       "    </tr>\n",
       "    <tr>\n",
       "      <td>4</td>\n",
       "      <td>20</td>\n",
       "      <td>4</td>\n",
       "      <td>2</td>\n",
       "      <td>2</td>\n",
       "      <td>0</td>\n",
       "      <td>447</td>\n",
       "      <td>1</td>\n",
       "      <td>1</td>\n",
       "      <td>5</td>\n",
       "      <td>5</td>\n",
       "      <td>3.62</td>\n",
       "      <td>1</td>\n",
       "      <td>-1</td>\n",
       "      <td>0</td>\n",
       "      <td>1</td>\n",
       "      <td>0</td>\n",
       "    </tr>\n",
       "    <tr>\n",
       "      <td>...</td>\n",
       "      <td>...</td>\n",
       "      <td>...</td>\n",
       "      <td>...</td>\n",
       "      <td>...</td>\n",
       "      <td>...</td>\n",
       "      <td>...</td>\n",
       "      <td>...</td>\n",
       "      <td>...</td>\n",
       "      <td>...</td>\n",
       "      <td>...</td>\n",
       "      <td>...</td>\n",
       "      <td>...</td>\n",
       "      <td>...</td>\n",
       "      <td>...</td>\n",
       "      <td>...</td>\n",
       "      <td>...</td>\n",
       "    </tr>\n",
       "    <tr>\n",
       "      <td>40836</td>\n",
       "      <td>20</td>\n",
       "      <td>9</td>\n",
       "      <td>2</td>\n",
       "      <td>1</td>\n",
       "      <td>0</td>\n",
       "      <td>505</td>\n",
       "      <td>0</td>\n",
       "      <td>1</td>\n",
       "      <td>17</td>\n",
       "      <td>11</td>\n",
       "      <td>6.43</td>\n",
       "      <td>2</td>\n",
       "      <td>-1</td>\n",
       "      <td>0</td>\n",
       "      <td>1</td>\n",
       "      <td>1</td>\n",
       "    </tr>\n",
       "    <tr>\n",
       "      <td>40837</td>\n",
       "      <td>50</td>\n",
       "      <td>9</td>\n",
       "      <td>1</td>\n",
       "      <td>2</td>\n",
       "      <td>0</td>\n",
       "      <td>825</td>\n",
       "      <td>0</td>\n",
       "      <td>0</td>\n",
       "      <td>17</td>\n",
       "      <td>11</td>\n",
       "      <td>16.28</td>\n",
       "      <td>3</td>\n",
       "      <td>-1</td>\n",
       "      <td>0</td>\n",
       "      <td>1</td>\n",
       "      <td>1</td>\n",
       "    </tr>\n",
       "    <tr>\n",
       "      <td>40838</td>\n",
       "      <td>60</td>\n",
       "      <td>5</td>\n",
       "      <td>0</td>\n",
       "      <td>0</td>\n",
       "      <td>0</td>\n",
       "      <td>1729</td>\n",
       "      <td>0</td>\n",
       "      <td>0</td>\n",
       "      <td>17</td>\n",
       "      <td>11</td>\n",
       "      <td>7.60</td>\n",
       "      <td>2</td>\n",
       "      <td>-1</td>\n",
       "      <td>0</td>\n",
       "      <td>1</td>\n",
       "      <td>1</td>\n",
       "    </tr>\n",
       "    <tr>\n",
       "      <td>40839</td>\n",
       "      <td>60</td>\n",
       "      <td>5</td>\n",
       "      <td>1</td>\n",
       "      <td>1</td>\n",
       "      <td>0</td>\n",
       "      <td>5715</td>\n",
       "      <td>0</td>\n",
       "      <td>0</td>\n",
       "      <td>17</td>\n",
       "      <td>11</td>\n",
       "      <td>18.78</td>\n",
       "      <td>5</td>\n",
       "      <td>184</td>\n",
       "      <td>3</td>\n",
       "      <td>4</td>\n",
       "      <td>1</td>\n",
       "    </tr>\n",
       "    <tr>\n",
       "      <td>40840</td>\n",
       "      <td>50</td>\n",
       "      <td>1</td>\n",
       "      <td>1</td>\n",
       "      <td>1</td>\n",
       "      <td>0</td>\n",
       "      <td>668</td>\n",
       "      <td>0</td>\n",
       "      <td>0</td>\n",
       "      <td>17</td>\n",
       "      <td>11</td>\n",
       "      <td>8.47</td>\n",
       "      <td>4</td>\n",
       "      <td>-1</td>\n",
       "      <td>0</td>\n",
       "      <td>1</td>\n",
       "      <td>0</td>\n",
       "    </tr>\n",
       "  </tbody>\n",
       "</table>\n",
       "<p>40841 rows × 16 columns</p>\n",
       "</div>"
      ],
      "text/plain": [
       "       age  job  marital  education  default  balance  housing  loan  day  \\\n",
       "0       50    4        1          2        0     2143        1     0    5   \n",
       "1       40    9        2          1        0       29        1     0    5   \n",
       "2       30    2        1          1        0        2        1     1    5   \n",
       "3       30    4        1          2        0      231        1     0    5   \n",
       "4       20    4        2          2        0      447        1     1    5   \n",
       "...    ...  ...      ...        ...      ...      ...      ...   ...  ...   \n",
       "40836   20    9        2          1        0      505        0     1   17   \n",
       "40837   50    9        1          2        0      825        0     0   17   \n",
       "40838   60    5        0          0        0     1729        0     0   17   \n",
       "40839   60    5        1          1        0     5715        0     0   17   \n",
       "40840   50    1        1          1        0      668        0     0   17   \n",
       "\n",
       "       month  duration  campaign  pdays  previous  poutcome  y  \n",
       "0          5      4.35         1     -1         0         1  0  \n",
       "1          5      2.52         1     -1         0         1  0  \n",
       "2          5      1.27         1     -1         0         1  0  \n",
       "3          5      2.32         1     -1         0         1  0  \n",
       "4          5      3.62         1     -1         0         1  0  \n",
       "...      ...       ...       ...    ...       ...       ... ..  \n",
       "40836     11      6.43         2     -1         0         1  1  \n",
       "40837     11     16.28         3     -1         0         1  1  \n",
       "40838     11      7.60         2     -1         0         1  1  \n",
       "40839     11     18.78         5    184         3         4  1  \n",
       "40840     11      8.47         4     -1         0         1  0  \n",
       "\n",
       "[40841 rows x 16 columns]"
      ]
     },
     "execution_count": 8,
     "metadata": {},
     "output_type": "execute_result"
    }
   ],
   "source": [
    "import pandas as pd\n",
    "data=pd.read_csv('Trained_Data_Plus.csv')\n",
    "data"
   ]
  },
  {
   "cell_type": "markdown",
   "metadata": {
    "colab_type": "text",
    "id": "5Eg1zRv5gdRA"
   },
   "source": [
    "# Part 2. Training mô hình"
   ]
  },
  {
   "cell_type": "markdown",
   "metadata": {
    "colab_type": "text",
    "id": "aKpvoT20i2nh"
   },
   "source": [
    "# I. DNN"
   ]
  },
  {
   "cell_type": "code",
   "execution_count": 9,
   "metadata": {
    "colab": {
     "base_uri": "https://localhost:8080/",
     "height": 80
    },
    "colab_type": "code",
    "executionInfo": {
     "elapsed": 46253,
     "status": "ok",
     "timestamp": 1575165111826,
     "user": {
      "displayName": "Nguyễn Trường Lâu",
      "photoUrl": "https://lh3.googleusercontent.com/a-/AAuE7mC_FN52BosV4NF1xq8bOGg6BR3ogsiIp_D3lLaXbw=s64",
      "userId": "01817833846686706243"
     },
     "user_tz": -420
    },
    "id": "zYnP4nEhgiY7",
    "outputId": "cb882bb4-e0f0-4975-8538-32865d150e2d"
   },
   "outputs": [],
   "source": [
    "#prepare\n",
    "from __future__ import print_function\n",
    "import keras\n",
    "from keras.layers import Dense, Flatten\n",
    "from keras.models import Sequential\n",
    "from keras import metrics\n",
    "from sklearn.model_selection import train_test_split"
   ]
  },
  {
   "cell_type": "code",
   "execution_count": 10,
   "metadata": {
    "colab": {
     "base_uri": "https://localhost:8080/",
     "height": 419
    },
    "colab_type": "code",
    "executionInfo": {
     "elapsed": 46204,
     "status": "ok",
     "timestamp": 1575165111832,
     "user": {
      "displayName": "Nguyễn Trường Lâu",
      "photoUrl": "https://lh3.googleusercontent.com/a-/AAuE7mC_FN52BosV4NF1xq8bOGg6BR3ogsiIp_D3lLaXbw=s64",
      "userId": "01817833846686706243"
     },
     "user_tz": -420
    },
    "id": "yN10Y6UlgvSG",
    "outputId": "5421e95e-12cb-4aee-9f7f-bf2e51b2bc4e"
   },
   "outputs": [
    {
     "data": {
      "text/html": [
       "<div>\n",
       "<style scoped>\n",
       "    .dataframe tbody tr th:only-of-type {\n",
       "        vertical-align: middle;\n",
       "    }\n",
       "\n",
       "    .dataframe tbody tr th {\n",
       "        vertical-align: top;\n",
       "    }\n",
       "\n",
       "    .dataframe thead th {\n",
       "        text-align: right;\n",
       "    }\n",
       "</style>\n",
       "<table border=\"1\" class=\"dataframe\">\n",
       "  <thead>\n",
       "    <tr style=\"text-align: right;\">\n",
       "      <th></th>\n",
       "      <th>age</th>\n",
       "      <th>job</th>\n",
       "      <th>marital</th>\n",
       "      <th>education</th>\n",
       "      <th>default</th>\n",
       "      <th>balance</th>\n",
       "      <th>housing</th>\n",
       "      <th>loan</th>\n",
       "      <th>day</th>\n",
       "      <th>month</th>\n",
       "      <th>duration</th>\n",
       "      <th>campaign</th>\n",
       "      <th>pdays</th>\n",
       "      <th>previous</th>\n",
       "      <th>poutcome</th>\n",
       "    </tr>\n",
       "  </thead>\n",
       "  <tbody>\n",
       "    <tr>\n",
       "      <td>0</td>\n",
       "      <td>50</td>\n",
       "      <td>4</td>\n",
       "      <td>1</td>\n",
       "      <td>2</td>\n",
       "      <td>0</td>\n",
       "      <td>2143</td>\n",
       "      <td>1</td>\n",
       "      <td>0</td>\n",
       "      <td>5</td>\n",
       "      <td>5</td>\n",
       "      <td>4.35</td>\n",
       "      <td>1</td>\n",
       "      <td>-1</td>\n",
       "      <td>0</td>\n",
       "      <td>1</td>\n",
       "    </tr>\n",
       "    <tr>\n",
       "      <td>1</td>\n",
       "      <td>40</td>\n",
       "      <td>9</td>\n",
       "      <td>2</td>\n",
       "      <td>1</td>\n",
       "      <td>0</td>\n",
       "      <td>29</td>\n",
       "      <td>1</td>\n",
       "      <td>0</td>\n",
       "      <td>5</td>\n",
       "      <td>5</td>\n",
       "      <td>2.52</td>\n",
       "      <td>1</td>\n",
       "      <td>-1</td>\n",
       "      <td>0</td>\n",
       "      <td>1</td>\n",
       "    </tr>\n",
       "    <tr>\n",
       "      <td>2</td>\n",
       "      <td>30</td>\n",
       "      <td>2</td>\n",
       "      <td>1</td>\n",
       "      <td>1</td>\n",
       "      <td>0</td>\n",
       "      <td>2</td>\n",
       "      <td>1</td>\n",
       "      <td>1</td>\n",
       "      <td>5</td>\n",
       "      <td>5</td>\n",
       "      <td>1.27</td>\n",
       "      <td>1</td>\n",
       "      <td>-1</td>\n",
       "      <td>0</td>\n",
       "      <td>1</td>\n",
       "    </tr>\n",
       "    <tr>\n",
       "      <td>3</td>\n",
       "      <td>30</td>\n",
       "      <td>4</td>\n",
       "      <td>1</td>\n",
       "      <td>2</td>\n",
       "      <td>0</td>\n",
       "      <td>231</td>\n",
       "      <td>1</td>\n",
       "      <td>0</td>\n",
       "      <td>5</td>\n",
       "      <td>5</td>\n",
       "      <td>2.32</td>\n",
       "      <td>1</td>\n",
       "      <td>-1</td>\n",
       "      <td>0</td>\n",
       "      <td>1</td>\n",
       "    </tr>\n",
       "    <tr>\n",
       "      <td>4</td>\n",
       "      <td>20</td>\n",
       "      <td>4</td>\n",
       "      <td>2</td>\n",
       "      <td>2</td>\n",
       "      <td>0</td>\n",
       "      <td>447</td>\n",
       "      <td>1</td>\n",
       "      <td>1</td>\n",
       "      <td>5</td>\n",
       "      <td>5</td>\n",
       "      <td>3.62</td>\n",
       "      <td>1</td>\n",
       "      <td>-1</td>\n",
       "      <td>0</td>\n",
       "      <td>1</td>\n",
       "    </tr>\n",
       "    <tr>\n",
       "      <td>...</td>\n",
       "      <td>...</td>\n",
       "      <td>...</td>\n",
       "      <td>...</td>\n",
       "      <td>...</td>\n",
       "      <td>...</td>\n",
       "      <td>...</td>\n",
       "      <td>...</td>\n",
       "      <td>...</td>\n",
       "      <td>...</td>\n",
       "      <td>...</td>\n",
       "      <td>...</td>\n",
       "      <td>...</td>\n",
       "      <td>...</td>\n",
       "      <td>...</td>\n",
       "      <td>...</td>\n",
       "    </tr>\n",
       "    <tr>\n",
       "      <td>40836</td>\n",
       "      <td>20</td>\n",
       "      <td>9</td>\n",
       "      <td>2</td>\n",
       "      <td>1</td>\n",
       "      <td>0</td>\n",
       "      <td>505</td>\n",
       "      <td>0</td>\n",
       "      <td>1</td>\n",
       "      <td>17</td>\n",
       "      <td>11</td>\n",
       "      <td>6.43</td>\n",
       "      <td>2</td>\n",
       "      <td>-1</td>\n",
       "      <td>0</td>\n",
       "      <td>1</td>\n",
       "    </tr>\n",
       "    <tr>\n",
       "      <td>40837</td>\n",
       "      <td>50</td>\n",
       "      <td>9</td>\n",
       "      <td>1</td>\n",
       "      <td>2</td>\n",
       "      <td>0</td>\n",
       "      <td>825</td>\n",
       "      <td>0</td>\n",
       "      <td>0</td>\n",
       "      <td>17</td>\n",
       "      <td>11</td>\n",
       "      <td>16.28</td>\n",
       "      <td>3</td>\n",
       "      <td>-1</td>\n",
       "      <td>0</td>\n",
       "      <td>1</td>\n",
       "    </tr>\n",
       "    <tr>\n",
       "      <td>40838</td>\n",
       "      <td>60</td>\n",
       "      <td>5</td>\n",
       "      <td>0</td>\n",
       "      <td>0</td>\n",
       "      <td>0</td>\n",
       "      <td>1729</td>\n",
       "      <td>0</td>\n",
       "      <td>0</td>\n",
       "      <td>17</td>\n",
       "      <td>11</td>\n",
       "      <td>7.60</td>\n",
       "      <td>2</td>\n",
       "      <td>-1</td>\n",
       "      <td>0</td>\n",
       "      <td>1</td>\n",
       "    </tr>\n",
       "    <tr>\n",
       "      <td>40839</td>\n",
       "      <td>60</td>\n",
       "      <td>5</td>\n",
       "      <td>1</td>\n",
       "      <td>1</td>\n",
       "      <td>0</td>\n",
       "      <td>5715</td>\n",
       "      <td>0</td>\n",
       "      <td>0</td>\n",
       "      <td>17</td>\n",
       "      <td>11</td>\n",
       "      <td>18.78</td>\n",
       "      <td>5</td>\n",
       "      <td>184</td>\n",
       "      <td>3</td>\n",
       "      <td>4</td>\n",
       "    </tr>\n",
       "    <tr>\n",
       "      <td>40840</td>\n",
       "      <td>50</td>\n",
       "      <td>1</td>\n",
       "      <td>1</td>\n",
       "      <td>1</td>\n",
       "      <td>0</td>\n",
       "      <td>668</td>\n",
       "      <td>0</td>\n",
       "      <td>0</td>\n",
       "      <td>17</td>\n",
       "      <td>11</td>\n",
       "      <td>8.47</td>\n",
       "      <td>4</td>\n",
       "      <td>-1</td>\n",
       "      <td>0</td>\n",
       "      <td>1</td>\n",
       "    </tr>\n",
       "  </tbody>\n",
       "</table>\n",
       "<p>40841 rows × 15 columns</p>\n",
       "</div>"
      ],
      "text/plain": [
       "       age  job  marital  education  default  balance  housing  loan  day  \\\n",
       "0       50    4        1          2        0     2143        1     0    5   \n",
       "1       40    9        2          1        0       29        1     0    5   \n",
       "2       30    2        1          1        0        2        1     1    5   \n",
       "3       30    4        1          2        0      231        1     0    5   \n",
       "4       20    4        2          2        0      447        1     1    5   \n",
       "...    ...  ...      ...        ...      ...      ...      ...   ...  ...   \n",
       "40836   20    9        2          1        0      505        0     1   17   \n",
       "40837   50    9        1          2        0      825        0     0   17   \n",
       "40838   60    5        0          0        0     1729        0     0   17   \n",
       "40839   60    5        1          1        0     5715        0     0   17   \n",
       "40840   50    1        1          1        0      668        0     0   17   \n",
       "\n",
       "       month  duration  campaign  pdays  previous  poutcome  \n",
       "0          5      4.35         1     -1         0         1  \n",
       "1          5      2.52         1     -1         0         1  \n",
       "2          5      1.27         1     -1         0         1  \n",
       "3          5      2.32         1     -1         0         1  \n",
       "4          5      3.62         1     -1         0         1  \n",
       "...      ...       ...       ...    ...       ...       ...  \n",
       "40836     11      6.43         2     -1         0         1  \n",
       "40837     11     16.28         3     -1         0         1  \n",
       "40838     11      7.60         2     -1         0         1  \n",
       "40839     11     18.78         5    184         3         4  \n",
       "40840     11      8.47         4     -1         0         1  \n",
       "\n",
       "[40841 rows x 15 columns]"
      ]
     },
     "execution_count": 10,
     "metadata": {},
     "output_type": "execute_result"
    }
   ],
   "source": [
    "#split data\n",
    "Data_X=data[['age','job', 'marital', 'education', 'default', 'balance', 'housing', 'loan', 'day', 'month', 'duration', 'campaign', 'pdays', 'previous', 'poutcome']]\n",
    "Data_y=data['y']\n",
    "Data_X"
   ]
  },
  {
   "cell_type": "code",
   "execution_count": 46,
   "metadata": {
    "colab": {
     "base_uri": "https://localhost:8080/",
     "height": 221
    },
    "colab_type": "code",
    "executionInfo": {
     "elapsed": 46175,
     "status": "ok",
     "timestamp": 1575165111834,
     "user": {
      "displayName": "Nguyễn Trường Lâu",
      "photoUrl": "https://lh3.googleusercontent.com/a-/AAuE7mC_FN52BosV4NF1xq8bOGg6BR3ogsiIp_D3lLaXbw=s64",
      "userId": "01817833846686706243"
     },
     "user_tz": -420
    },
    "id": "G2TMNO6YhAwz",
    "outputId": "847eac0d-f58f-450e-b14e-5fed3cab5b67"
   },
   "outputs": [
    {
     "data": {
      "text/plain": [
       "0        0\n",
       "1        0\n",
       "2        0\n",
       "3        0\n",
       "4        0\n",
       "        ..\n",
       "40836    1\n",
       "40837    1\n",
       "40838    1\n",
       "40839    1\n",
       "40840    0\n",
       "Name: y, Length: 40841, dtype: int64"
      ]
     },
     "execution_count": 46,
     "metadata": {},
     "output_type": "execute_result"
    }
   ],
   "source": [
    "Data_y"
   ]
  },
  {
   "cell_type": "code",
   "execution_count": 11,
   "metadata": {
    "colab": {},
    "colab_type": "code",
    "id": "VbO68N9FhFF3"
   },
   "outputs": [],
   "source": [
    "X_train, X_test, y_train, y_test = train_test_split(\n",
    "     Data_X, Data_y, test_size=5841)"
   ]
  },
  {
   "cell_type": "code",
   "execution_count": 0,
   "metadata": {
    "colab": {
     "base_uri": "https://localhost:8080/",
     "height": 136
    },
    "colab_type": "code",
    "executionInfo": {
     "elapsed": 46146,
     "status": "ok",
     "timestamp": 1575165111847,
     "user": {
      "displayName": "Nguyễn Trường Lâu",
      "photoUrl": "https://lh3.googleusercontent.com/a-/AAuE7mC_FN52BosV4NF1xq8bOGg6BR3ogsiIp_D3lLaXbw=s64",
      "userId": "01817833846686706243"
     },
     "user_tz": -420
    },
    "id": "r2I8GOBEhhS9",
    "outputId": "4cfca070-c000-463b-bb7f-397434f33bd3"
   },
   "outputs": [
    {
     "data": {
      "text/plain": [
       "array([[1., 0.],\n",
       "       [0., 1.],\n",
       "       [1., 0.],\n",
       "       ...,\n",
       "       [1., 0.],\n",
       "       [1., 0.],\n",
       "       [1., 0.]], dtype=float32)"
      ]
     },
     "execution_count": 9,
     "metadata": {
      "tags": []
     },
     "output_type": "execute_result"
    }
   ],
   "source": [
    "#Chuyển về dạng One-host\n",
    "num_classes=2;\n",
    "y_train=keras.utils.to_categorical(y_train, num_classes)\n",
    "y_test=keras.utils.to_categorical(y_test, num_classes)\n",
    "y_test"
   ]
  },
  {
   "cell_type": "code",
   "execution_count": 0,
   "metadata": {
    "colab": {
     "base_uri": "https://localhost:8080/",
     "height": 445
    },
    "colab_type": "code",
    "executionInfo": {
     "elapsed": 46117,
     "status": "ok",
     "timestamp": 1575165111849,
     "user": {
      "displayName": "Nguyễn Trường Lâu",
      "photoUrl": "https://lh3.googleusercontent.com/a-/AAuE7mC_FN52BosV4NF1xq8bOGg6BR3ogsiIp_D3lLaXbw=s64",
      "userId": "01817833846686706243"
     },
     "user_tz": -420
    },
    "id": "VMfyWJWMhkU0",
    "outputId": "d077b77b-7873-452d-cf11-6a5486bf7ee9"
   },
   "outputs": [
    {
     "name": "stdout",
     "output_type": "stream",
     "text": [
      "WARNING:tensorflow:From /usr/local/lib/python3.6/dist-packages/keras/backend/tensorflow_backend.py:66: The name tf.get_default_graph is deprecated. Please use tf.compat.v1.get_default_graph instead.\n",
      "\n",
      "WARNING:tensorflow:From /usr/local/lib/python3.6/dist-packages/keras/backend/tensorflow_backend.py:541: The name tf.placeholder is deprecated. Please use tf.compat.v1.placeholder instead.\n",
      "\n",
      "WARNING:tensorflow:From /usr/local/lib/python3.6/dist-packages/keras/backend/tensorflow_backend.py:4432: The name tf.random_uniform is deprecated. Please use tf.random.uniform instead.\n",
      "\n",
      "Model: \"model_2\"\n",
      "_________________________________________________________________\n",
      "Layer (type)                 Output Shape              Param #   \n",
      "=================================================================\n",
      "input (InputLayer)           (None, 15)                0         \n",
      "_________________________________________________________________\n",
      "dense_1 (Dense)              (None, 128)               2048      \n",
      "_________________________________________________________________\n",
      "dense_2 (Dense)              (None, 256)               33024     \n",
      "_________________________________________________________________\n",
      "dense_3 (Dense)              (None, 256)               65792     \n",
      "_________________________________________________________________\n",
      "dense_4 (Dense)              (None, 2)                 514       \n",
      "=================================================================\n",
      "Total params: 101,378\n",
      "Trainable params: 101,378\n",
      "Non-trainable params: 0\n",
      "_________________________________________________________________\n"
     ]
    }
   ],
   "source": [
    "#buil model\n",
    "from keras.models import Model\n",
    "from keras.layers import Input\n",
    "\n",
    "model=Model()\n",
    "\n",
    "input_layer = Input(shape=(15,), name = 'input')\n",
    "\n",
    "dense_1 = Dense(units = 128, activation='relu')(input_layer)\n",
    "dense_2 = Dense(units = 256, activation='relu')(dense_1)\n",
    "dense_3 = Dense(units = 256, activation='relu')(dense_2)\n",
    "dense_out = Dense(units = 2, activation='softmax')(dense_3)\n",
    "model = Model(inputs = input_layer, outputs = dense_out)\n",
    "model.summary()"
   ]
  },
  {
   "cell_type": "code",
   "execution_count": 0,
   "metadata": {
    "colab": {
     "base_uri": "https://localhost:8080/",
     "height": 105
    },
    "colab_type": "code",
    "executionInfo": {
     "elapsed": 46105,
     "status": "ok",
     "timestamp": 1575165111852,
     "user": {
      "displayName": "Nguyễn Trường Lâu",
      "photoUrl": "https://lh3.googleusercontent.com/a-/AAuE7mC_FN52BosV4NF1xq8bOGg6BR3ogsiIp_D3lLaXbw=s64",
      "userId": "01817833846686706243"
     },
     "user_tz": -420
    },
    "id": "cRA0mCB6hn3U",
    "outputId": "5d24e365-1b65-4c93-b2fa-8b835e913eb6"
   },
   "outputs": [
    {
     "name": "stdout",
     "output_type": "stream",
     "text": [
      "WARNING:tensorflow:From /usr/local/lib/python3.6/dist-packages/keras/optimizers.py:793: The name tf.train.Optimizer is deprecated. Please use tf.compat.v1.train.Optimizer instead.\n",
      "\n",
      "WARNING:tensorflow:From /usr/local/lib/python3.6/dist-packages/keras/backend/tensorflow_backend.py:3576: The name tf.log is deprecated. Please use tf.math.log instead.\n",
      "\n"
     ]
    }
   ],
   "source": [
    "#loss, metrics\n",
    "model.compile(loss=keras.losses.categorical_crossentropy, optimizer=keras.optimizers.SGD(lr=0.1), metrics=['accuracy'])"
   ]
  },
  {
   "cell_type": "code",
   "execution_count": 0,
   "metadata": {
    "colab": {
     "base_uri": "https://localhost:8080/",
     "height": 1000
    },
    "colab_type": "code",
    "executionInfo": {
     "elapsed": 184978,
     "status": "ok",
     "timestamp": 1575165250767,
     "user": {
      "displayName": "Nguyễn Trường Lâu",
      "photoUrl": "https://lh3.googleusercontent.com/a-/AAuE7mC_FN52BosV4NF1xq8bOGg6BR3ogsiIp_D3lLaXbw=s64",
      "userId": "01817833846686706243"
     },
     "user_tz": -420
    },
    "id": "Xj7JaMB0hwyV",
    "outputId": "a8adf20e-1c1a-4e55-b075-fd6be0bdf391"
   },
   "outputs": [
    {
     "name": "stdout",
     "output_type": "stream",
     "text": [
      "WARNING:tensorflow:From /usr/local/lib/python3.6/dist-packages/tensorflow_core/python/ops/math_grad.py:1424: where (from tensorflow.python.ops.array_ops) is deprecated and will be removed in a future version.\n",
      "Instructions for updating:\n",
      "Use tf.where in 2.0, which has the same broadcast rule as np.where\n",
      "WARNING:tensorflow:From /usr/local/lib/python3.6/dist-packages/keras/backend/tensorflow_backend.py:1033: The name tf.assign_add is deprecated. Please use tf.compat.v1.assign_add instead.\n",
      "\n",
      "WARNING:tensorflow:From /usr/local/lib/python3.6/dist-packages/keras/backend/tensorflow_backend.py:1020: The name tf.assign is deprecated. Please use tf.compat.v1.assign instead.\n",
      "\n",
      "WARNING:tensorflow:From /usr/local/lib/python3.6/dist-packages/keras/backend/tensorflow_backend.py:3005: The name tf.Session is deprecated. Please use tf.compat.v1.Session instead.\n",
      "\n",
      "Epoch 1/60\n",
      "WARNING:tensorflow:From /usr/local/lib/python3.6/dist-packages/keras/backend/tensorflow_backend.py:190: The name tf.get_default_session is deprecated. Please use tf.compat.v1.get_default_session instead.\n",
      "\n",
      "WARNING:tensorflow:From /usr/local/lib/python3.6/dist-packages/keras/backend/tensorflow_backend.py:197: The name tf.ConfigProto is deprecated. Please use tf.compat.v1.ConfigProto instead.\n",
      "\n",
      "WARNING:tensorflow:From /usr/local/lib/python3.6/dist-packages/keras/backend/tensorflow_backend.py:207: The name tf.global_variables is deprecated. Please use tf.compat.v1.global_variables instead.\n",
      "\n",
      "WARNING:tensorflow:From /usr/local/lib/python3.6/dist-packages/keras/backend/tensorflow_backend.py:216: The name tf.is_variable_initialized is deprecated. Please use tf.compat.v1.is_variable_initialized instead.\n",
      "\n",
      "WARNING:tensorflow:From /usr/local/lib/python3.6/dist-packages/keras/backend/tensorflow_backend.py:223: The name tf.variables_initializer is deprecated. Please use tf.compat.v1.variables_initializer instead.\n",
      "\n",
      "35000/35000 [==============================] - 3s 97us/step - loss: 2.2768 - acc: 0.8586\n",
      "Epoch 2/60\n",
      "35000/35000 [==============================] - 2s 69us/step - loss: 1.8342 - acc: 0.8862\n",
      "Epoch 3/60\n",
      "35000/35000 [==============================] - 2s 68us/step - loss: 1.8342 - acc: 0.8862\n",
      "Epoch 4/60\n",
      "35000/35000 [==============================] - 2s 66us/step - loss: 1.8342 - acc: 0.8862\n",
      "Epoch 5/60\n",
      "35000/35000 [==============================] - 2s 68us/step - loss: 1.8342 - acc: 0.8862\n",
      "Epoch 6/60\n",
      "35000/35000 [==============================] - 2s 68us/step - loss: 1.8342 - acc: 0.8862\n",
      "Epoch 7/60\n",
      "35000/35000 [==============================] - 2s 69us/step - loss: 1.8342 - acc: 0.8862\n",
      "Epoch 8/60\n",
      "35000/35000 [==============================] - 2s 68us/step - loss: 1.8342 - acc: 0.8862\n",
      "Epoch 9/60\n",
      "35000/35000 [==============================] - 2s 68us/step - loss: 1.8342 - acc: 0.8862\n",
      "Epoch 10/60\n",
      "35000/35000 [==============================] - 2s 70us/step - loss: 1.8342 - acc: 0.8862\n",
      "Epoch 11/60\n",
      "35000/35000 [==============================] - 2s 67us/step - loss: 1.8342 - acc: 0.8862\n",
      "Epoch 12/60\n",
      "35000/35000 [==============================] - 2s 69us/step - loss: 1.8342 - acc: 0.8862\n",
      "Epoch 13/60\n",
      "35000/35000 [==============================] - 2s 67us/step - loss: 1.8342 - acc: 0.8862\n",
      "Epoch 14/60\n",
      "35000/35000 [==============================] - 2s 68us/step - loss: 1.8342 - acc: 0.8862\n",
      "Epoch 15/60\n",
      "35000/35000 [==============================] - 2s 71us/step - loss: 1.8342 - acc: 0.8862\n",
      "Epoch 16/60\n",
      "35000/35000 [==============================] - 2s 71us/step - loss: 1.8342 - acc: 0.8862\n",
      "Epoch 17/60\n",
      "35000/35000 [==============================] - 2s 68us/step - loss: 1.8342 - acc: 0.8862\n",
      "Epoch 18/60\n",
      "35000/35000 [==============================] - 2s 71us/step - loss: 1.8342 - acc: 0.8862\n",
      "Epoch 19/60\n",
      "35000/35000 [==============================] - 2s 70us/step - loss: 1.8342 - acc: 0.8862\n",
      "Epoch 20/60\n",
      "35000/35000 [==============================] - 2s 68us/step - loss: 1.8342 - acc: 0.8862\n",
      "Epoch 21/60\n",
      "35000/35000 [==============================] - 2s 68us/step - loss: 1.8342 - acc: 0.8862\n",
      "Epoch 22/60\n",
      "35000/35000 [==============================] - 3s 72us/step - loss: 1.8342 - acc: 0.8862\n",
      "Epoch 23/60\n",
      "35000/35000 [==============================] - 2s 69us/step - loss: 1.8342 - acc: 0.8862\n",
      "Epoch 24/60\n",
      "35000/35000 [==============================] - 2s 71us/step - loss: 1.8342 - acc: 0.8862\n",
      "Epoch 25/60\n",
      "35000/35000 [==============================] - 2s 70us/step - loss: 1.8342 - acc: 0.8862\n",
      "Epoch 26/60\n",
      "35000/35000 [==============================] - 2s 69us/step - loss: 1.8342 - acc: 0.8862\n",
      "Epoch 27/60\n",
      "35000/35000 [==============================] - 2s 68us/step - loss: 1.8342 - acc: 0.8862\n",
      "Epoch 28/60\n",
      "35000/35000 [==============================] - 2s 68us/step - loss: 1.8342 - acc: 0.8862\n",
      "Epoch 29/60\n",
      "35000/35000 [==============================] - 2s 67us/step - loss: 1.8342 - acc: 0.8862\n",
      "Epoch 30/60\n",
      "35000/35000 [==============================] - 2s 68us/step - loss: 1.8342 - acc: 0.8862\n",
      "Epoch 31/60\n",
      "35000/35000 [==============================] - 2s 68us/step - loss: 1.8342 - acc: 0.8862\n",
      "Epoch 32/60\n",
      "35000/35000 [==============================] - 2s 68us/step - loss: 1.8342 - acc: 0.8862\n",
      "Epoch 33/60\n",
      "35000/35000 [==============================] - 2s 68us/step - loss: 1.8342 - acc: 0.8862\n",
      "Epoch 34/60\n",
      "35000/35000 [==============================] - 2s 67us/step - loss: 1.8342 - acc: 0.8862\n",
      "Epoch 35/60\n",
      "35000/35000 [==============================] - 2s 68us/step - loss: 1.8342 - acc: 0.8862\n",
      "Epoch 36/60\n",
      "35000/35000 [==============================] - 2s 66us/step - loss: 1.8342 - acc: 0.8862\n",
      "Epoch 37/60\n",
      "35000/35000 [==============================] - 2s 66us/step - loss: 1.8342 - acc: 0.8862\n",
      "Epoch 38/60\n",
      "35000/35000 [==============================] - 2s 67us/step - loss: 1.8342 - acc: 0.8862\n",
      "Epoch 39/60\n",
      "35000/35000 [==============================] - 2s 67us/step - loss: 1.8342 - acc: 0.8862\n",
      "Epoch 40/60\n",
      "35000/35000 [==============================] - 2s 69us/step - loss: 1.8342 - acc: 0.8862\n",
      "Epoch 41/60\n",
      "35000/35000 [==============================] - 2s 67us/step - loss: 1.8342 - acc: 0.8862\n",
      "Epoch 42/60\n",
      "35000/35000 [==============================] - 2s 67us/step - loss: 1.8342 - acc: 0.8862\n",
      "Epoch 43/60\n",
      "35000/35000 [==============================] - 2s 67us/step - loss: 1.8342 - acc: 0.8862\n",
      "Epoch 44/60\n",
      "35000/35000 [==============================] - 2s 67us/step - loss: 1.8342 - acc: 0.8862\n",
      "Epoch 45/60\n",
      "35000/35000 [==============================] - 2s 67us/step - loss: 1.8342 - acc: 0.8862\n",
      "Epoch 46/60\n",
      "35000/35000 [==============================] - 2s 66us/step - loss: 1.8342 - acc: 0.8862\n",
      "Epoch 47/60\n",
      "35000/35000 [==============================] - 2s 70us/step - loss: 1.8342 - acc: 0.8862\n",
      "Epoch 48/60\n",
      "35000/35000 [==============================] - 3s 73us/step - loss: 1.8342 - acc: 0.8862\n",
      "Epoch 49/60\n",
      "35000/35000 [==============================] - 3s 74us/step - loss: 1.8342 - acc: 0.8862\n",
      "Epoch 50/60\n",
      "35000/35000 [==============================] - 3s 73us/step - loss: 1.8342 - acc: 0.8862\n",
      "Epoch 51/60\n",
      "35000/35000 [==============================] - 2s 69us/step - loss: 1.8342 - acc: 0.8862\n",
      "Epoch 52/60\n",
      "35000/35000 [==============================] - 2s 69us/step - loss: 1.8342 - acc: 0.8862\n",
      "Epoch 53/60\n",
      "35000/35000 [==============================] - 2s 66us/step - loss: 1.8342 - acc: 0.8862\n",
      "Epoch 54/60\n",
      "35000/35000 [==============================] - 2s 68us/step - loss: 1.8342 - acc: 0.8862\n",
      "Epoch 55/60\n",
      "35000/35000 [==============================] - 2s 67us/step - loss: 1.8342 - acc: 0.8862\n",
      "Epoch 56/60\n",
      "35000/35000 [==============================] - 2s 68us/step - loss: 1.8342 - acc: 0.8862\n",
      "Epoch 57/60\n",
      "35000/35000 [==============================] - 2s 67us/step - loss: 1.8342 - acc: 0.8862\n",
      "Epoch 58/60\n",
      "35000/35000 [==============================] - 2s 69us/step - loss: 1.8342 - acc: 0.8862\n",
      "Epoch 59/60\n",
      "35000/35000 [==============================] - 2s 67us/step - loss: 1.8342 - acc: 0.8862\n",
      "Epoch 60/60\n",
      "35000/35000 [==============================] - 2s 69us/step - loss: 1.8342 - acc: 0.8862\n"
     ]
    }
   ],
   "source": [
    "#train\n",
    "model.fit(X_train, y_train, epochs=60)\n",
    "model.save('trained_model.h100')"
   ]
  },
  {
   "cell_type": "code",
   "execution_count": 0,
   "metadata": {
    "colab": {
     "base_uri": "https://localhost:8080/",
     "height": 136
    },
    "colab_type": "code",
    "executionInfo": {
     "elapsed": 186014,
     "status": "ok",
     "timestamp": 1575165251837,
     "user": {
      "displayName": "Nguyễn Trường Lâu",
      "photoUrl": "https://lh3.googleusercontent.com/a-/AAuE7mC_FN52BosV4NF1xq8bOGg6BR3ogsiIp_D3lLaXbw=s64",
      "userId": "01817833846686706243"
     },
     "user_tz": -420
    },
    "id": "g32dMdfCk3QY",
    "outputId": "10c24dca-8156-4f26-b2fe-9496dc27d0da"
   },
   "outputs": [
    {
     "data": {
      "text/plain": [
       "array([[1., 0.],\n",
       "       [1., 0.],\n",
       "       [1., 0.],\n",
       "       ...,\n",
       "       [1., 0.],\n",
       "       [1., 0.],\n",
       "       [1., 0.]], dtype=float32)"
      ]
     },
     "execution_count": 13,
     "metadata": {
      "tags": []
     },
     "output_type": "execute_result"
    }
   ],
   "source": [
    "#test\n",
    "from keras.models import load_model\n",
    "model = load_model('trained_model.h100')\n",
    "result = model.predict(X_test)\n",
    "result"
   ]
  },
  {
   "cell_type": "code",
   "execution_count": 0,
   "metadata": {
    "colab": {
     "base_uri": "https://localhost:8080/",
     "height": 34
    },
    "colab_type": "code",
    "executionInfo": {
     "elapsed": 984,
     "status": "ok",
     "timestamp": 1575165828851,
     "user": {
      "displayName": "Nguyễn Trường Lâu",
      "photoUrl": "https://lh3.googleusercontent.com/a-/AAuE7mC_FN52BosV4NF1xq8bOGg6BR3ogsiIp_D3lLaXbw=s64",
      "userId": "01817833846686706243"
     },
     "user_tz": -420
    },
    "id": "T7IiTLAJMo_A",
    "outputId": "e927b8d4-bfda-4588-80a7-edc0cd16a934"
   },
   "outputs": [
    {
     "data": {
      "text/plain": [
       "array([0, 0, 0, ..., 0, 0, 0])"
      ]
     },
     "execution_count": 22,
     "metadata": {
      "tags": []
     },
     "output_type": "execute_result"
    }
   ],
   "source": [
    "result=np.argmax(result, axis=1)\n",
    "result"
   ]
  },
  {
   "cell_type": "code",
   "execution_count": 0,
   "metadata": {
    "colab": {
     "base_uri": "https://localhost:8080/",
     "height": 34
    },
    "colab_type": "code",
    "executionInfo": {
     "elapsed": 1024,
     "status": "ok",
     "timestamp": 1575166063225,
     "user": {
      "displayName": "Nguyễn Trường Lâu",
      "photoUrl": "https://lh3.googleusercontent.com/a-/AAuE7mC_FN52BosV4NF1xq8bOGg6BR3ogsiIp_D3lLaXbw=s64",
      "userId": "01817833846686706243"
     },
     "user_tz": -420
    },
    "id": "LH3NW5ylNk5v",
    "outputId": "54a0217f-be45-431b-b42b-1b643368e786"
   },
   "outputs": [
    {
     "data": {
      "text/plain": [
       "0"
      ]
     },
     "execution_count": 24,
     "metadata": {
      "tags": []
     },
     "output_type": "execute_result"
    }
   ],
   "source": [
    "n=np.sum(result)\n",
    "n"
   ]
  },
  {
   "cell_type": "code",
   "execution_count": 0,
   "metadata": {
    "colab": {
     "base_uri": "https://localhost:8080/",
     "height": 714
    },
    "colab_type": "code",
    "executionInfo": {
     "elapsed": 835,
     "status": "ok",
     "timestamp": 1575165683387,
     "user": {
      "displayName": "Nguyễn Trường Lâu",
      "photoUrl": "https://lh3.googleusercontent.com/a-/AAuE7mC_FN52BosV4NF1xq8bOGg6BR3ogsiIp_D3lLaXbw=s64",
      "userId": "01817833846686706243"
     },
     "user_tz": -420
    },
    "id": "1etgW44OMCiq",
    "outputId": "ec19b364-d0a3-4374-a3aa-aba1f6332762"
   },
   "outputs": [
    {
     "data": {
      "text/plain": [
       "2456     0\n",
       "24042    0\n",
       "3398     0\n",
       "21269    0\n",
       "37207    1\n",
       "8131     0\n",
       "30817    0\n",
       "1134     0\n",
       "10760    0\n",
       "37709    0\n",
       "25045    0\n",
       "20411    0\n",
       "8730     0\n",
       "473      0\n",
       "27662    0\n",
       "13677    0\n",
       "14798    0\n",
       "8316     0\n",
       "36887    1\n",
       "27997    0\n",
       "21443    0\n",
       "36130    0\n",
       "18930    0\n",
       "1409     0\n",
       "25609    1\n",
       "26929    0\n",
       "30979    1\n",
       "11552    0\n",
       "18241    0\n",
       "15032    1\n",
       "4933     0\n",
       "38429    1\n",
       "30740    0\n",
       "35793    0\n",
       "12691    0\n",
       "27206    0\n",
       "38955    1\n",
       "35593    0\n",
       "32386    0\n",
       "3168     0\n",
       "Name: y, dtype: int64"
      ]
     },
     "execution_count": 21,
     "metadata": {
      "tags": []
     },
     "output_type": "execute_result"
    }
   ],
   "source": [
    "y_test[0:40]"
   ]
  },
  {
   "cell_type": "code",
   "execution_count": 0,
   "metadata": {
    "colab": {
     "base_uri": "https://localhost:8080/",
     "height": 68
    },
    "colab_type": "code",
    "executionInfo": {
     "elapsed": 936,
     "status": "ok",
     "timestamp": 1575165842667,
     "user": {
      "displayName": "Nguyễn Trường Lâu",
      "photoUrl": "https://lh3.googleusercontent.com/a-/AAuE7mC_FN52BosV4NF1xq8bOGg6BR3ogsiIp_D3lLaXbw=s64",
      "userId": "01817833846686706243"
     },
     "user_tz": -420
    },
    "id": "CnmDqaZNLM2V",
    "outputId": "5f63043a-b00e-433c-c97d-5d42bb5518d4"
   },
   "outputs": [
    {
     "name": "stdout",
     "output_type": "stream",
     "text": [
      "Confusion matrix:\n",
      "[[5158    0]\n",
      " [ 683    0]]\n"
     ]
    }
   ],
   "source": [
    "from sklearn.metrics import confusion_matrix\n",
    "cnf_matrix = confusion_matrix(y_test, result)\n",
    "print('Confusion matrix:')\n",
    "print(cnf_matrix)"
   ]
  },
  {
   "cell_type": "code",
   "execution_count": 0,
   "metadata": {
    "colab": {
     "base_uri": "https://localhost:8080/",
     "height": 577
    },
    "colab_type": "code",
    "executionInfo": {
     "elapsed": 1317,
     "status": "ok",
     "timestamp": 1575166970990,
     "user": {
      "displayName": "Nguyễn Trường Lâu",
      "photoUrl": "https://lh3.googleusercontent.com/a-/AAuE7mC_FN52BosV4NF1xq8bOGg6BR3ogsiIp_D3lLaXbw=s64",
      "userId": "01817833846686706243"
     },
     "user_tz": -420
    },
    "id": "YZk0SI6GQRnI",
    "outputId": "02649fff-fe0b-4aab-8845-b112aa95280a"
   },
   "outputs": [
    {
     "data": {
      "image/png": "[encoded data removed]",
      "text/plain": [
       "<Figure size 432x288 with 2 Axes>"
      ]
     },
     "metadata": {
      "tags": []
     },
     "output_type": "display_data"
    },
    {
     "data": {
      "image/png": "[encoded data removed]",
      "text/plain": [
       "<Figure size 432x288 with 2 Axes>"
      ]
     },
     "metadata": {
      "tags": []
     },
     "output_type": "display_data"
    }
   ],
   "source": [
    "import matplotlib.pyplot as plt\n",
    "import itertools\n",
    "def plot_confusion_matrix(cm, classes,\n",
    "                          normalize=False,\n",
    "                          title='Confusion matrix',\n",
    "                          cmap=plt.cm.Blues):\n",
    "    \"\"\"\n",
    "    This function prints and plots the confusion matrix.\n",
    "    Normalization can be applied by setting `normalize=True`.\n",
    "    \"\"\"\n",
    "    if normalize:\n",
    "        cm = cm.astype('float') / cm.sum(axis=1, keepdims = True)\n",
    "\n",
    "    plt.imshow(cm, interpolation='nearest', cmap=cmap)\n",
    "    plt.title(title)\n",
    "    plt.colorbar()\n",
    "    tick_marks = np.arange(len(classes))\n",
    "    plt.xticks(tick_marks, classes, rotation=45)\n",
    "    plt.yticks(tick_marks, classes)\n",
    "\n",
    "    fmt = '.2f' if normalize else 'd'\n",
    "    thresh = cm.max() / 2.\n",
    "    for i, j in itertools.product(range(cm.shape[0]), range(cm.shape[1])):\n",
    "        plt.text(j, i, format(cm[i, j], fmt),\n",
    "                 horizontalalignment=\"center\",\n",
    "                 color=\"white\" if cm[i, j] > thresh else \"black\")\n",
    "\n",
    "    plt.tight_layout()\n",
    "    plt.ylabel('True label')\n",
    "    plt.xlabel('Predicted label')\n",
    "\n",
    "# Plot non-normalized confusion matrix\n",
    "class_names = [0, 1]\n",
    "plt.figure()\n",
    "plot_confusion_matrix(cnf_matrix, classes=class_names,\n",
    "                      title='Confusion matrix không chuẩn hóa')\n",
    "\n",
    "# Plot normalized confusion matrix\n",
    "plt.figure()\n",
    "plot_confusion_matrix(cnf_matrix, classes=class_names, normalize=True,\n",
    "                      title='Confusion matrix được chuẩn hóa')\n",
    "\n",
    "plt.show()"
   ]
  },
  {
   "cell_type": "code",
   "execution_count": 0,
   "metadata": {
    "colab": {
     "base_uri": "https://localhost:8080/",
     "height": 224
    },
    "colab_type": "code",
    "executionInfo": {
     "elapsed": 1112,
     "status": "ok",
     "timestamp": 1575166194789,
     "user": {
      "displayName": "Nguyễn Trường Lâu",
      "photoUrl": "https://lh3.googleusercontent.com/a-/AAuE7mC_FN52BosV4NF1xq8bOGg6BR3ogsiIp_D3lLaXbw=s64",
      "userId": "01817833846686706243"
     },
     "user_tz": -420
    },
    "id": "YLsJXbBMOGT3",
    "outputId": "ad983deb-023e-4e1f-dbcc-4764a27c148f"
   },
   "outputs": [
    {
     "name": "stdout",
     "output_type": "stream",
     "text": [
      "              precision    recall  f1-score   support\n",
      "\n",
      "           0       0.88      1.00      0.94      5158\n",
      "           1       0.00      0.00      0.00       683\n",
      "\n",
      "    accuracy                           0.88      5841\n",
      "   macro avg       0.44      0.50      0.47      5841\n",
      "weighted avg       0.78      0.88      0.83      5841\n",
      "\n"
     ]
    },
    {
     "name": "stderr",
     "output_type": "stream",
     "text": [
      "/usr/local/lib/python3.6/dist-packages/sklearn/metrics/classification.py:1437: UndefinedMetricWarning: Precision and F-score are ill-defined and being set to 0.0 in labels with no predicted samples.\n",
      "  'precision', 'predicted', average, warn_for)\n"
     ]
    }
   ],
   "source": [
    "# Classification Report\n",
    "from sklearn.metrics import classification_report\n",
    "print(classification_report(y_test, result))"
   ]
  },
  {
   "cell_type": "markdown",
   "metadata": {
    "colab_type": "text",
    "id": "WzsCB2EZi6C8"
   },
   "source": [
    "# II. KNN"
   ]
  },
  {
   "cell_type": "code",
   "execution_count": 0,
   "metadata": {
    "colab": {
     "base_uri": "https://localhost:8080/",
     "height": 721
    },
    "colab_type": "code",
    "executionInfo": {
     "elapsed": 255705,
     "status": "ok",
     "timestamp": 1575165321558,
     "user": {
      "displayName": "Nguyễn Trường Lâu",
      "photoUrl": "https://lh3.googleusercontent.com/a-/AAuE7mC_FN52BosV4NF1xq8bOGg6BR3ogsiIp_D3lLaXbw=s64",
      "userId": "01817833846686706243"
     },
     "user_tz": -420
    },
    "id": "6ZIaDaB-i-pZ",
    "outputId": "d0d2d864-090e-40ac-89a0-d4352b5d3f3c"
   },
   "outputs": [
    {
     "name": "stdout",
     "output_type": "stream",
     "text": [
      "k=1 86.00 (+/- 0.68)\n",
      "k=2 88.90 (+/- 0.54)\n",
      "k=3 88.53 (+/- 0.39)\n",
      "k=4 88.92 (+/- 0.49)\n",
      "k=5 88.80 (+/- 0.39)\n",
      "k=6 88.93 (+/- 0.45)\n",
      "k=7 88.82 (+/- 0.37)\n",
      "k=8 88.90 (+/- 0.54)\n",
      "k=9 88.82 (+/- 0.51)\n",
      "k=10 88.89 (+/- 0.53)\n",
      "k=11 88.78 (+/- 0.55)\n",
      "k=12 88.83 (+/- 0.58)\n",
      "k=13 88.75 (+/- 0.51)\n",
      "k=14 88.82 (+/- 0.49)\n",
      "k=15 88.82 (+/- 0.50)\n",
      "k=16 88.88 (+/- 0.51)\n",
      "k=17 88.85 (+/- 0.49)\n",
      "k=18 88.83 (+/- 0.53)\n",
      "k=19 88.81 (+/- 0.52)\n",
      "k=20 88.82 (+/- 0.56)\n",
      "k=21 88.77 (+/- 0.58)\n",
      "k=22 88.80 (+/- 0.56)\n",
      "k=23 88.80 (+/- 0.54)\n",
      "k=24 88.79 (+/- 0.58)\n",
      "k=25 88.83 (+/- 0.55)\n",
      "The optimal number of neighbors is 5 with 88.9%\n"
     ]
    },
    {
     "data": {
      "image/png": "[encoded data removed]",
      "text/plain": [
       "<Figure size 432x288 with 1 Axes>"
      ]
     },
     "metadata": {
      "tags": []
     },
     "output_type": "display_data"
    }
   ],
   "source": [
    "from sklearn import model_selection\n",
    "from sklearn.model_selection import train_test_split\n",
    "from sklearn.neighbors import KNeighborsClassifier\n",
    "from sklearn.model_selection import KFold\n",
    "from sklearn.model_selection import cross_val_score\n",
    "from sklearn.metrics import confusion_matrix, accuracy_score\n",
    "import numpy as np\n",
    "import matplotlib.pyplot as plt\n",
    "\n",
    "X_trainK, X_testK, y_trainK, y_testK = train_test_split(Data_X, Data_y, test_size = 0.2, random_state = 101)\n",
    "\n",
    "#Neighbors\n",
    "neighbors = np.arange(0,25)\n",
    "\n",
    "#Create empty list that will hold cv scores\n",
    "cv_scores = []\n",
    "\n",
    "#Perform 10-fold cross validation on training set for odd values of k:\n",
    "for k in neighbors:\n",
    "    k_value = k+1\n",
    "    knn = KNeighborsClassifier(n_neighbors = k_value, weights='uniform', p=2, metric='euclidean')\n",
    "    kfold = model_selection.KFold(n_splits=10, random_state=123)\n",
    "    scores = model_selection.cross_val_score(knn, X_trainK, y_trainK, cv=kfold, scoring='accuracy')\n",
    "    cv_scores.append(scores.mean()*100)\n",
    "    print(\"k=%d %0.2f (+/- %0.2f)\" % (k_value, scores.mean()*100, scores.std()*100))\n",
    "\n",
    "optimal_k = neighbors[cv_scores.index(max(cv_scores))]\n",
    "print (\"The optimal number of neighbors is %d with %0.1f%%\" % (optimal_k, cv_scores[optimal_k]))\n",
    "\n",
    "plt.plot(neighbors, cv_scores)\n",
    "plt.xlabel('Number of Neighbors K')\n",
    "plt.ylabel('Train Accuracy')\n",
    "plt.show()"
   ]
  },
  {
   "cell_type": "code",
   "execution_count": 0,
   "metadata": {
    "colab": {
     "base_uri": "https://localhost:8080/",
     "height": 34
    },
    "colab_type": "code",
    "executionInfo": {
     "elapsed": 255981,
     "status": "ok",
     "timestamp": 1575165321882,
     "user": {
      "displayName": "Nguyễn Trường Lâu",
      "photoUrl": "https://lh3.googleusercontent.com/a-/AAuE7mC_FN52BosV4NF1xq8bOGg6BR3ogsiIp_D3lLaXbw=s64",
      "userId": "01817833846686706243"
     },
     "user_tz": -420
    },
    "id": "BqRQvkh4kuNr",
    "outputId": "5bb2e986-dda9-48a3-e3ea-d3b4ec0c2fa2"
   },
   "outputs": [
    {
     "name": "stdout",
     "output_type": "stream",
     "text": [
      "Accuracy:  89.0\n"
     ]
    }
   ],
   "source": [
    "from sklearn.neighbors import KNeighborsClassifier\n",
    "knn = KNeighborsClassifier(n_neighbors=11)\n",
    "knn.fit(X_train, y_train)\n",
    "knnpred = knn.predict(X_test)\n",
    "\n",
    "print('Accuracy: ',round(accuracy_score(y_test, knnpred),2)*100)"
   ]
  },
  {
   "cell_type": "code",
   "execution_count": 0,
   "metadata": {
    "colab": {
     "base_uri": "https://localhost:8080/",
     "height": 68
    },
    "colab_type": "code",
    "executionInfo": {
     "elapsed": 805,
     "status": "ok",
     "timestamp": 1575167299751,
     "user": {
      "displayName": "Nguyễn Trường Lâu",
      "photoUrl": "https://lh3.googleusercontent.com/a-/AAuE7mC_FN52BosV4NF1xq8bOGg6BR3ogsiIp_D3lLaXbw=s64",
      "userId": "01817833846686706243"
     },
     "user_tz": -420
    },
    "id": "M6CGoOBLR04g",
    "outputId": "888849b9-19f8-4f17-b5b2-9bded05159ae"
   },
   "outputs": [
    {
     "name": "stdout",
     "output_type": "stream",
     "text": [
      "Confusion matrix:\n",
      "[[5037  121]\n",
      " [ 668   15]]\n"
     ]
    }
   ],
   "source": [
    "from sklearn.metrics import confusion_matrix\n",
    "cnf_matrix = confusion_matrix(y_test, knnpred)\n",
    "print('Confusion matrix:')\n",
    "print(cnf_matrix)"
   ]
  },
  {
   "cell_type": "code",
   "execution_count": 0,
   "metadata": {
    "colab": {
     "base_uri": "https://localhost:8080/",
     "height": 577
    },
    "colab_type": "code",
    "executionInfo": {
     "elapsed": 1269,
     "status": "ok",
     "timestamp": 1575167330590,
     "user": {
      "displayName": "Nguyễn Trường Lâu",
      "photoUrl": "https://lh3.googleusercontent.com/a-/AAuE7mC_FN52BosV4NF1xq8bOGg6BR3ogsiIp_D3lLaXbw=s64",
      "userId": "01817833846686706243"
     },
     "user_tz": -420
    },
    "id": "ibtGYkfqSetL",
    "outputId": "a9d44713-da85-42ab-f686-2eeb388dc3d1"
   },
   "outputs": [
    {
     "data": {
      "image/png": "[encoded data removed]",
      "text/plain": [
       "<Figure size 432x288 with 2 Axes>"
      ]
     },
     "metadata": {
      "tags": []
     },
     "output_type": "display_data"
    },
    {
     "data": {
      "image/png": "[encoded data removed]",
      "text/plain": [
       "<Figure size 432x288 with 2 Axes>"
      ]
     },
     "metadata": {
      "tags": []
     },
     "output_type": "display_data"
    }
   ],
   "source": [
    "# Plot non-normalized confusion matrix\n",
    "class_names = [0, 1]\n",
    "plt.figure()\n",
    "plot_confusion_matrix(cnf_matrix, classes=class_names,\n",
    "                      title='Confusion matrix không chuẩn hóa')\n",
    "\n",
    "# Plot normalized confusion matrix\n",
    "plt.figure()\n",
    "plot_confusion_matrix(cnf_matrix, classes=class_names, normalize=True,\n",
    "                      title='Confusion matrix được chuẩn hóa')\n",
    "\n",
    "plt.show()"
   ]
  },
  {
   "cell_type": "code",
   "execution_count": 0,
   "metadata": {
    "colab": {
     "base_uri": "https://localhost:8080/",
     "height": 170
    },
    "colab_type": "code",
    "executionInfo": {
     "elapsed": 1288,
     "status": "ok",
     "timestamp": 1575167572761,
     "user": {
      "displayName": "Nguyễn Trường Lâu",
      "photoUrl": "https://lh3.googleusercontent.com/a-/AAuE7mC_FN52BosV4NF1xq8bOGg6BR3ogsiIp_D3lLaXbw=s64",
      "userId": "01817833846686706243"
     },
     "user_tz": -420
    },
    "id": "VMHIL7RGTXpP",
    "outputId": "ef92517d-c36c-4d48-8851-b20859a9ae7e"
   },
   "outputs": [
    {
     "name": "stdout",
     "output_type": "stream",
     "text": [
      "              precision    recall  f1-score   support\n",
      "\n",
      "           0       0.88      0.98      0.93      5158\n",
      "           1       0.11      0.02      0.04       683\n",
      "\n",
      "    accuracy                           0.86      5841\n",
      "   macro avg       0.50      0.50      0.48      5841\n",
      "weighted avg       0.79      0.86      0.82      5841\n",
      "\n"
     ]
    }
   ],
   "source": [
    "# Classification Report\n",
    "from sklearn.metrics import classification_report\n",
    "print(classification_report(y_test, knnpred))"
   ]
  },
  {
   "cell_type": "markdown",
   "metadata": {
    "colab_type": "text",
    "id": "8qkyUljhkXNE"
   },
   "source": [
    "# III. LR"
   ]
  },
  {
   "cell_type": "code",
   "execution_count": 0,
   "metadata": {
    "colab": {
     "base_uri": "https://localhost:8080/",
     "height": 156
    },
    "colab_type": "code",
    "executionInfo": {
     "elapsed": 1266,
     "status": "ok",
     "timestamp": 1575168237318,
     "user": {
      "displayName": "Nguyễn Trường Lâu",
      "photoUrl": "https://lh3.googleusercontent.com/a-/AAuE7mC_FN52BosV4NF1xq8bOGg6BR3ogsiIp_D3lLaXbw=s64",
      "userId": "01817833846686706243"
     },
     "user_tz": -420
    },
    "id": "iMUzCPMEVpSS",
    "outputId": "af01ceff-fb45-4961-fbf2-6075252bade1"
   },
   "outputs": [
    {
     "name": "stderr",
     "output_type": "stream",
     "text": [
      "/usr/local/lib/python3.6/dist-packages/sklearn/linear_model/logistic.py:432: FutureWarning: Default solver will be changed to 'lbfgs' in 0.22. Specify a solver to silence this warning.\n",
      "  FutureWarning)\n"
     ]
    },
    {
     "data": {
      "text/plain": [
       "LogisticRegression(C=1.0, class_weight=None, dual=False, fit_intercept=True,\n",
       "                   intercept_scaling=1, l1_ratio=None, max_iter=100,\n",
       "                   multi_class='warn', n_jobs=None, penalty='l2',\n",
       "                   random_state=None, solver='warn', tol=0.0001, verbose=0,\n",
       "                   warm_start=False)"
      ]
     },
     "execution_count": 37,
     "metadata": {
      "tags": []
     },
     "output_type": "execute_result"
    }
   ],
   "source": [
    "from sklearn.linear_model import LogisticRegression\n",
    "from sklearn import metrics\n",
    "logreg = LogisticRegression()\n",
    "logreg.fit(X_train, y_train)"
   ]
  },
  {
   "cell_type": "code",
   "execution_count": 0,
   "metadata": {
    "colab": {
     "base_uri": "https://localhost:8080/",
     "height": 34
    },
    "colab_type": "code",
    "executionInfo": {
     "elapsed": 866,
     "status": "ok",
     "timestamp": 1575168240849,
     "user": {
      "displayName": "Nguyễn Trường Lâu",
      "photoUrl": "https://lh3.googleusercontent.com/a-/AAuE7mC_FN52BosV4NF1xq8bOGg6BR3ogsiIp_D3lLaXbw=s64",
      "userId": "01817833846686706243"
     },
     "user_tz": -420
    },
    "id": "g8pSxPs_Vy-Q",
    "outputId": "46512357-5fcf-451d-ec3c-f82af974e23a"
   },
   "outputs": [
    {
     "name": "stdout",
     "output_type": "stream",
     "text": [
      "Accuracy: 0.90\n"
     ]
    }
   ],
   "source": [
    "y_pred = logreg.predict(X_test)\n",
    "print('Accuracy: {:.2f}'.format(logreg.score(X_test, y_test)))"
   ]
  },
  {
   "cell_type": "code",
   "execution_count": 0,
   "metadata": {
    "colab": {
     "base_uri": "https://localhost:8080/",
     "height": 34
    },
    "colab_type": "code",
    "executionInfo": {
     "elapsed": 1015,
     "status": "ok",
     "timestamp": 1575168695114,
     "user": {
      "displayName": "Nguyễn Trường Lâu",
      "photoUrl": "https://lh3.googleusercontent.com/a-/AAuE7mC_FN52BosV4NF1xq8bOGg6BR3ogsiIp_D3lLaXbw=s64",
      "userId": "01817833846686706243"
     },
     "user_tz": -420
    },
    "id": "V4eqscyrXr0k",
    "outputId": "972dec7c-e708-42ef-dc02-e5b5051443eb"
   },
   "outputs": [
    {
     "data": {
      "text/plain": [
       "array([0, 0, 0, ..., 0, 0, 0])"
      ]
     },
     "execution_count": 39,
     "metadata": {
      "tags": []
     },
     "output_type": "execute_result"
    }
   ],
   "source": [
    "y_pred"
   ]
  },
  {
   "cell_type": "code",
   "execution_count": 0,
   "metadata": {
    "colab": {
     "base_uri": "https://localhost:8080/",
     "height": 34
    },
    "colab_type": "code",
    "executionInfo": {
     "elapsed": 821,
     "status": "ok",
     "timestamp": 1575168723619,
     "user": {
      "displayName": "Nguyễn Trường Lâu",
      "photoUrl": "https://lh3.googleusercontent.com/a-/AAuE7mC_FN52BosV4NF1xq8bOGg6BR3ogsiIp_D3lLaXbw=s64",
      "userId": "01817833846686706243"
     },
     "user_tz": -420
    },
    "id": "VDoe39ZYXwXk",
    "outputId": "385c9c5d-9794-40e0-e7b6-96418940cc4d"
   },
   "outputs": [
    {
     "data": {
      "text/plain": [
       "337"
      ]
     },
     "execution_count": 40,
     "metadata": {
      "tags": []
     },
     "output_type": "execute_result"
    }
   ],
   "source": [
    "a=np.sum(y_pred)\n",
    "a"
   ]
  },
  {
   "cell_type": "code",
   "execution_count": 0,
   "metadata": {
    "colab": {
     "base_uri": "https://localhost:8080/",
     "height": 51
    },
    "colab_type": "code",
    "executionInfo": {
     "elapsed": 986,
     "status": "ok",
     "timestamp": 1575169548583,
     "user": {
      "displayName": "Nguyễn Trường Lâu",
      "photoUrl": "https://lh3.googleusercontent.com/a-/AAuE7mC_FN52BosV4NF1xq8bOGg6BR3ogsiIp_D3lLaXbw=s64",
      "userId": "01817833846686706243"
     },
     "user_tz": -420
    },
    "id": "WkB0jNO2a9GL",
    "outputId": "2e97af1e-20a1-444f-ae77-9ff03b53d337"
   },
   "outputs": [
    {
     "name": "stdout",
     "output_type": "stream",
     "text": [
      "[[5035  123]\n",
      " [ 469  214]]\n"
     ]
    }
   ],
   "source": [
    "from sklearn.metrics import confusion_matrix\n",
    "confusion_matrix = confusion_matrix(y_test, y_pred)\n",
    "print(confusion_matrix)"
   ]
  },
  {
   "cell_type": "code",
   "execution_count": 0,
   "metadata": {
    "colab": {
     "base_uri": "https://localhost:8080/",
     "height": 577
    },
    "colab_type": "code",
    "executionInfo": {
     "elapsed": 1160,
     "status": "ok",
     "timestamp": 1575169618624,
     "user": {
      "displayName": "Nguyễn Trường Lâu",
      "photoUrl": "https://lh3.googleusercontent.com/a-/AAuE7mC_FN52BosV4NF1xq8bOGg6BR3ogsiIp_D3lLaXbw=s64",
      "userId": "01817833846686706243"
     },
     "user_tz": -420
    },
    "id": "BQ3vrvcdbKE8",
    "outputId": "3fd620f3-64c5-46b1-cd4b-61fb59d97ab5"
   },
   "outputs": [
    {
     "data": {
      "image/png": "[encoded data removed]",
      "text/plain": [
       "<Figure size 432x288 with 2 Axes>"
      ]
     },
     "metadata": {
      "tags": []
     },
     "output_type": "display_data"
    },
    {
     "data": {
      "image/png": "[encoded data removed]",
      "text/plain": [
       "<Figure size 432x288 with 2 Axes>"
      ]
     },
     "metadata": {
      "tags": []
     },
     "output_type": "display_data"
    }
   ],
   "source": [
    "# Plot non-normalized confusion matrix\n",
    "class_names = [0, 1]\n",
    "plt.figure()\n",
    "plot_confusion_matrix(confusion_matrix, classes=class_names,\n",
    "                      title='Confusion matrix không chuẩn hóa')\n",
    "\n",
    "# Plot normalized confusion matrix\n",
    "plt.figure()\n",
    "plot_confusion_matrix(confusion_matrix, classes=class_names, normalize=True,\n",
    "                      title='Confusion matrix được chuẩn hóa')\n",
    "\n",
    "plt.show()"
   ]
  },
  {
   "cell_type": "raw",
   "metadata": {
    "colab": {
     "base_uri": "https://localhost:8080/",
     "height": 170
    },
    "colab_type": "code",
    "executionInfo": {
     "elapsed": 815,
     "status": "ok",
     "timestamp": 1575169653245,
     "user": {
      "displayName": "Nguyễn Trường Lâu",
      "photoUrl": "https://lh3.googleusercontent.com/a-/AAuE7mC_FN52BosV4NF1xq8bOGg6BR3ogsiIp_D3lLaXbw=s64",
      "userId": "01817833846686706243"
     },
     "user_tz": -420
    },
    "id": "0sldrY6lbUTo",
    "outputId": "210bc861-7cd1-4c16-87e8-ab786e8ec15d"
   },
   "source": [
    "# Classification Report\n",
    "from sklearn.metrics import classification_report\n",
    "print(classification_report(y_test, y_pred))"
   ]
  },
  {
   "cell_type": "markdown",
   "metadata": {},
   "source": [
    "# RFC"
   ]
  },
  {
   "cell_type": "code",
   "execution_count": 13,
   "metadata": {},
   "outputs": [
    {
     "name": "stderr",
     "output_type": "stream",
     "text": [
      "C:\\ProgramData\\Anaconda3\\lib\\site-packages\\sklearn\\ensemble\\forest.py:245: FutureWarning: The default value of n_estimators will change from 10 in version 0.20 to 100 in 0.22.\n",
      "  \"10 in version 0.20 to 100 in 0.22.\", FutureWarning)\n"
     ]
    },
    {
     "data": {
      "text/plain": [
       "0.9084060948467728"
      ]
     },
     "execution_count": 13,
     "metadata": {},
     "output_type": "execute_result"
    }
   ],
   "source": [
    "from sklearn.ensemble import RandomForestClassifier\n",
    "from sklearn.metrics import accuracy_score\n",
    "# train model\n",
    "rfc = RandomForestClassifier()\n",
    "rfc.fit(X_train, y_train)\n",
    "\n",
    "# predict on test set\n",
    "rfc_pred = rfc.predict(X_test)\n",
    "\n",
    "accuracy_score(y_test, rfc_pred)"
   ]
  },
  {
   "cell_type": "code",
   "execution_count": 14,
   "metadata": {},
   "outputs": [
    {
     "name": "stdout",
     "output_type": "stream",
     "text": [
      "[[5050  132]\n",
      " [ 403  256]]\n"
     ]
    }
   ],
   "source": [
    "from sklearn.metrics import confusion_matrix\n",
    "confusion_matrix = confusion_matrix(y_test, rfc_pred)\n",
    "print(confusion_matrix)"
   ]
  },
  {
   "cell_type": "code",
   "execution_count": 16,
   "metadata": {},
   "outputs": [],
   "source": [
    "import matplotlib.pyplot as plt\n",
    "def plot_confusion_matrix(cm, classes,\n",
    "                          normalize=False,\n",
    "                          title='Confusion matrix',\n",
    "                          cmap=plt.cm.Blues):\n",
    "    \"\"\"\n",
    "    This function prints and plots the confusion matrix.\n",
    "    Normalization can be applied by setting `normalize=True`.\n",
    "    \"\"\"\n",
    "    if normalize:\n",
    "        cm = cm.astype('float') / cm.sum(axis=1, keepdims = True)\n",
    "\n",
    "    plt.imshow(cm, interpolation='nearest', cmap=cmap)\n",
    "    plt.title(title)\n",
    "    plt.colorbar()\n",
    "    tick_marks = np.arange(len(classes))\n",
    "    plt.xticks(tick_marks, classes, rotation=45)\n",
    "    plt.yticks(tick_marks, classes)\n",
    "\n",
    "    fmt = '.2f' if normalize else 'd'\n",
    "    thresh = cm.max() / 2.\n",
    "    for i, j in itertools.product(range(cm.shape[0]), range(cm.shape[1])):\n",
    "        plt.text(j, i, format(cm[i, j], fmt),\n",
    "                 horizontalalignment=\"center\",\n",
    "                 color=\"white\" if cm[i, j] > thresh else \"black\")\n",
    "\n",
    "    plt.tight_layout()\n",
    "    plt.ylabel('True label')\n",
    "    plt.xlabel('Predicted label')"
   ]
  },
  {
   "cell_type": "code",
   "execution_count": 18,
   "metadata": {},
   "outputs": [
    {
     "data": {
      "image/png": "[encoded data removed]",
      "text/plain": [
       "<Figure size 432x288 with 2 Axes>"
      ]
     },
     "metadata": {
      "needs_background": "light"
     },
     "output_type": "display_data"
    },
    {
     "data": {
      "image/png": "[encoded data removed]",
      "text/plain": [
       "<Figure size 432x288 with 2 Axes>"
      ]
     },
     "metadata": {
      "needs_background": "light"
     },
     "output_type": "display_data"
    }
   ],
   "source": [
    "# Plot non-normalized confusion matrix\n",
    "import matplotlib.pyplot as plt\n",
    "import itertools\n",
    "import numpy as np\n",
    "class_names = [0, 1]\n",
    "plt.figure()\n",
    "plot_confusion_matrix(confusion_matrix, classes=class_names,\n",
    "                      title='Confusion matrix không chuẩn hóa')\n",
    "\n",
    "# Plot normalized confusion matrix\n",
    "plt.figure()\n",
    "plot_confusion_matrix(confusion_matrix, classes=class_names, normalize=True,\n",
    "                      title='Confusion matrix được chuẩn hóa')\n",
    "\n",
    "plt.show()"
   ]
  },
  {
   "cell_type": "code",
   "execution_count": 19,
   "metadata": {},
   "outputs": [
    {
     "name": "stdout",
     "output_type": "stream",
     "text": [
      "              precision    recall  f1-score   support\n",
      "\n",
      "           0       0.93      0.97      0.95      5182\n",
      "           1       0.66      0.39      0.49       659\n",
      "\n",
      "    accuracy                           0.91      5841\n",
      "   macro avg       0.79      0.68      0.72      5841\n",
      "weighted avg       0.90      0.91      0.90      5841\n",
      "\n"
     ]
    }
   ],
   "source": [
    "# Classification Report\n",
    "from sklearn.metrics import classification_report\n",
    "print(classification_report(y_test, rfc_pred))"
   ]
  },
  {
   "cell_type": "code",
   "execution_count": null,
   "metadata": {},
   "outputs": [],
   "source": []
  }
 ],
 "metadata": {
  "colab": {
   "collapsed_sections": [],
   "name": "Train.ipynb",
   "provenance": [],
   "toc_visible": true
  },
  "kernelspec": {
   "display_name": "Python 3",
   "language": "python",
   "name": "python3"
  },
  "language_info": {
   "codemirror_mode": {
    "name": "ipython",
    "version": 3
   },
   "file_extension": ".py",
   "mimetype": "text/x-python",
   "name": "python",
   "nbconvert_exporter": "python",
   "pygments_lexer": "ipython3",
   "version": "3.7.4"
  }
 },
 "nbformat": 4,
 "nbformat_minor": 1
}
